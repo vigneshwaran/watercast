{
 "cells": [
  {
   "cell_type": "code",
   "execution_count": 1,
   "metadata": {},
   "outputs": [],
   "source": [
    "import numpy as np\n",
    "import pandas as pd\n",
    "import matplotlib.pyplot as plt\n",
    "import seaborn as sns\n",
    "%matplotlib inline"
   ]
  },
  {
   "cell_type": "code",
   "execution_count": null,
   "metadata": {},
   "outputs": [],
   "source": []
  },
  {
   "cell_type": "code",
   "execution_count": 2,
   "metadata": {},
   "outputs": [],
   "source": [
    "from sklearn.metrics import mean_squared_error"
   ]
  },
  {
   "cell_type": "code",
   "execution_count": 3,
   "metadata": {},
   "outputs": [],
   "source": [
    "%load_ext autoreload\n",
    "%autoreload 2"
   ]
  },
  {
   "cell_type": "code",
   "execution_count": 4,
   "metadata": {},
   "outputs": [],
   "source": [
    "df = pd.read_csv('temperature - temperature.csv')"
   ]
  },
  {
   "cell_type": "code",
   "execution_count": 5,
   "metadata": {},
   "outputs": [
    {
     "data": {
      "text/plain": [
       "Index(['Date', 'temperature'], dtype='object')"
      ]
     },
     "execution_count": 5,
     "metadata": {},
     "output_type": "execute_result"
    }
   ],
   "source": [
    "df.columns"
   ]
  },
  {
   "cell_type": "code",
   "execution_count": 6,
   "metadata": {},
   "outputs": [],
   "source": [
    "rain = pd.read_csv('chennai_reservoir_rainfall.csv')"
   ]
  },
  {
   "cell_type": "code",
   "execution_count": 7,
   "metadata": {},
   "outputs": [
    {
     "data": {
      "text/plain": [
       "pandas.core.series.Series"
      ]
     },
     "execution_count": 7,
     "metadata": {},
     "output_type": "execute_result"
    }
   ],
   "source": [
    "type(rain[\"Date\"])"
   ]
  },
  {
   "cell_type": "code",
   "execution_count": 8,
   "metadata": {
    "scrolled": true
   },
   "outputs": [
    {
     "data": {
      "text/plain": [
       "pandas.core.series.Series"
      ]
     },
     "execution_count": 8,
     "metadata": {},
     "output_type": "execute_result"
    }
   ],
   "source": [
    "type(df[\"Date\"])"
   ]
  },
  {
   "cell_type": "code",
   "execution_count": 9,
   "metadata": {},
   "outputs": [
    {
     "data": {
      "text/html": [
       "<div>\n",
       "<style scoped>\n",
       "    .dataframe tbody tr th:only-of-type {\n",
       "        vertical-align: middle;\n",
       "    }\n",
       "\n",
       "    .dataframe tbody tr th {\n",
       "        vertical-align: top;\n",
       "    }\n",
       "\n",
       "    .dataframe thead th {\n",
       "        text-align: right;\n",
       "    }\n",
       "</style>\n",
       "<table border=\"1\" class=\"dataframe\">\n",
       "  <thead>\n",
       "    <tr style=\"text-align: right;\">\n",
       "      <th></th>\n",
       "      <th>Date</th>\n",
       "      <th>POONDI</th>\n",
       "      <th>CHOLAVARAM</th>\n",
       "      <th>REDHILLS</th>\n",
       "      <th>CHEMBARAMBAKKAM</th>\n",
       "    </tr>\n",
       "  </thead>\n",
       "  <tbody>\n",
       "    <tr>\n",
       "      <th>0</th>\n",
       "      <td>01-01-2004</td>\n",
       "      <td>0.0</td>\n",
       "      <td>0.0</td>\n",
       "      <td>0.0</td>\n",
       "      <td>0.0</td>\n",
       "    </tr>\n",
       "    <tr>\n",
       "      <th>1</th>\n",
       "      <td>02-01-2004</td>\n",
       "      <td>0.0</td>\n",
       "      <td>0.0</td>\n",
       "      <td>0.0</td>\n",
       "      <td>0.0</td>\n",
       "    </tr>\n",
       "    <tr>\n",
       "      <th>2</th>\n",
       "      <td>03-01-2004</td>\n",
       "      <td>0.0</td>\n",
       "      <td>0.0</td>\n",
       "      <td>0.0</td>\n",
       "      <td>0.0</td>\n",
       "    </tr>\n",
       "    <tr>\n",
       "      <th>3</th>\n",
       "      <td>04-01-2004</td>\n",
       "      <td>0.0</td>\n",
       "      <td>0.0</td>\n",
       "      <td>0.0</td>\n",
       "      <td>0.0</td>\n",
       "    </tr>\n",
       "    <tr>\n",
       "      <th>4</th>\n",
       "      <td>05-01-2004</td>\n",
       "      <td>0.0</td>\n",
       "      <td>0.0</td>\n",
       "      <td>0.0</td>\n",
       "      <td>0.0</td>\n",
       "    </tr>\n",
       "  </tbody>\n",
       "</table>\n",
       "</div>"
      ],
      "text/plain": [
       "         Date  POONDI  CHOLAVARAM  REDHILLS  CHEMBARAMBAKKAM\n",
       "0  01-01-2004     0.0         0.0       0.0              0.0\n",
       "1  02-01-2004     0.0         0.0       0.0              0.0\n",
       "2  03-01-2004     0.0         0.0       0.0              0.0\n",
       "3  04-01-2004     0.0         0.0       0.0              0.0\n",
       "4  05-01-2004     0.0         0.0       0.0              0.0"
      ]
     },
     "execution_count": 9,
     "metadata": {},
     "output_type": "execute_result"
    }
   ],
   "source": [
    "rain.head()"
   ]
  },
  {
   "cell_type": "code",
   "execution_count": 10,
   "metadata": {},
   "outputs": [],
   "source": [
    "rain[\"Date\"] = pd.to_datetime(rain[\"Date\"], format='%d-%m-%Y')"
   ]
  },
  {
   "cell_type": "code",
   "execution_count": 11,
   "metadata": {},
   "outputs": [],
   "source": [
    "rain[\"Date\"] = pd.to_datetime(rain[\"Date\"], format='%m-%d-%Y')"
   ]
  },
  {
   "cell_type": "code",
   "execution_count": 12,
   "metadata": {},
   "outputs": [
    {
     "data": {
      "text/html": [
       "<div>\n",
       "<style scoped>\n",
       "    .dataframe tbody tr th:only-of-type {\n",
       "        vertical-align: middle;\n",
       "    }\n",
       "\n",
       "    .dataframe tbody tr th {\n",
       "        vertical-align: top;\n",
       "    }\n",
       "\n",
       "    .dataframe thead th {\n",
       "        text-align: right;\n",
       "    }\n",
       "</style>\n",
       "<table border=\"1\" class=\"dataframe\">\n",
       "  <thead>\n",
       "    <tr style=\"text-align: right;\">\n",
       "      <th></th>\n",
       "      <th>Date</th>\n",
       "      <th>POONDI</th>\n",
       "      <th>CHOLAVARAM</th>\n",
       "      <th>REDHILLS</th>\n",
       "      <th>CHEMBARAMBAKKAM</th>\n",
       "    </tr>\n",
       "  </thead>\n",
       "  <tbody>\n",
       "    <tr>\n",
       "      <th>0</th>\n",
       "      <td>2004-01-01</td>\n",
       "      <td>0.0</td>\n",
       "      <td>0.0</td>\n",
       "      <td>0.0</td>\n",
       "      <td>0.0</td>\n",
       "    </tr>\n",
       "    <tr>\n",
       "      <th>1</th>\n",
       "      <td>2004-01-02</td>\n",
       "      <td>0.0</td>\n",
       "      <td>0.0</td>\n",
       "      <td>0.0</td>\n",
       "      <td>0.0</td>\n",
       "    </tr>\n",
       "    <tr>\n",
       "      <th>2</th>\n",
       "      <td>2004-01-03</td>\n",
       "      <td>0.0</td>\n",
       "      <td>0.0</td>\n",
       "      <td>0.0</td>\n",
       "      <td>0.0</td>\n",
       "    </tr>\n",
       "    <tr>\n",
       "      <th>3</th>\n",
       "      <td>2004-01-04</td>\n",
       "      <td>0.0</td>\n",
       "      <td>0.0</td>\n",
       "      <td>0.0</td>\n",
       "      <td>0.0</td>\n",
       "    </tr>\n",
       "    <tr>\n",
       "      <th>4</th>\n",
       "      <td>2004-01-05</td>\n",
       "      <td>0.0</td>\n",
       "      <td>0.0</td>\n",
       "      <td>0.0</td>\n",
       "      <td>0.0</td>\n",
       "    </tr>\n",
       "  </tbody>\n",
       "</table>\n",
       "</div>"
      ],
      "text/plain": [
       "        Date  POONDI  CHOLAVARAM  REDHILLS  CHEMBARAMBAKKAM\n",
       "0 2004-01-01     0.0         0.0       0.0              0.0\n",
       "1 2004-01-02     0.0         0.0       0.0              0.0\n",
       "2 2004-01-03     0.0         0.0       0.0              0.0\n",
       "3 2004-01-04     0.0         0.0       0.0              0.0\n",
       "4 2004-01-05     0.0         0.0       0.0              0.0"
      ]
     },
     "execution_count": 12,
     "metadata": {},
     "output_type": "execute_result"
    }
   ],
   "source": [
    "rain.head()"
   ]
  },
  {
   "cell_type": "code",
   "execution_count": 13,
   "metadata": {},
   "outputs": [
    {
     "data": {
      "text/html": [
       "<div>\n",
       "<style scoped>\n",
       "    .dataframe tbody tr th:only-of-type {\n",
       "        vertical-align: middle;\n",
       "    }\n",
       "\n",
       "    .dataframe tbody tr th {\n",
       "        vertical-align: top;\n",
       "    }\n",
       "\n",
       "    .dataframe thead th {\n",
       "        text-align: right;\n",
       "    }\n",
       "</style>\n",
       "<table border=\"1\" class=\"dataframe\">\n",
       "  <thead>\n",
       "    <tr style=\"text-align: right;\">\n",
       "      <th></th>\n",
       "      <th>Date</th>\n",
       "      <th>temperature</th>\n",
       "    </tr>\n",
       "  </thead>\n",
       "  <tbody>\n",
       "    <tr>\n",
       "      <th>0</th>\n",
       "      <td>01-01-1995</td>\n",
       "      <td>72.4</td>\n",
       "    </tr>\n",
       "    <tr>\n",
       "      <th>1</th>\n",
       "      <td>01-02-1995</td>\n",
       "      <td>73.5</td>\n",
       "    </tr>\n",
       "    <tr>\n",
       "      <th>2</th>\n",
       "      <td>01-03-1995</td>\n",
       "      <td>72.6</td>\n",
       "    </tr>\n",
       "    <tr>\n",
       "      <th>3</th>\n",
       "      <td>01-04-1995</td>\n",
       "      <td>75.2</td>\n",
       "    </tr>\n",
       "    <tr>\n",
       "      <th>4</th>\n",
       "      <td>01-05-1995</td>\n",
       "      <td>74.8</td>\n",
       "    </tr>\n",
       "  </tbody>\n",
       "</table>\n",
       "</div>"
      ],
      "text/plain": [
       "         Date  temperature\n",
       "0  01-01-1995         72.4\n",
       "1  01-02-1995         73.5\n",
       "2  01-03-1995         72.6\n",
       "3  01-04-1995         75.2\n",
       "4  01-05-1995         74.8"
      ]
     },
     "execution_count": 13,
     "metadata": {},
     "output_type": "execute_result"
    }
   ],
   "source": [
    "df.head()"
   ]
  },
  {
   "cell_type": "code",
   "execution_count": 14,
   "metadata": {
    "scrolled": true
   },
   "outputs": [],
   "source": [
    "df[\"Date\"] = pd.to_datetime(df[\"Date\"], format='%m-%d-%Y')"
   ]
  },
  {
   "cell_type": "code",
   "execution_count": 15,
   "metadata": {
    "scrolled": true
   },
   "outputs": [
    {
     "data": {
      "text/html": [
       "<div>\n",
       "<style scoped>\n",
       "    .dataframe tbody tr th:only-of-type {\n",
       "        vertical-align: middle;\n",
       "    }\n",
       "\n",
       "    .dataframe tbody tr th {\n",
       "        vertical-align: top;\n",
       "    }\n",
       "\n",
       "    .dataframe thead th {\n",
       "        text-align: right;\n",
       "    }\n",
       "</style>\n",
       "<table border=\"1\" class=\"dataframe\">\n",
       "  <thead>\n",
       "    <tr style=\"text-align: right;\">\n",
       "      <th></th>\n",
       "      <th>Date</th>\n",
       "      <th>temperature</th>\n",
       "    </tr>\n",
       "  </thead>\n",
       "  <tbody>\n",
       "    <tr>\n",
       "      <th>0</th>\n",
       "      <td>1995-01-01</td>\n",
       "      <td>72.4</td>\n",
       "    </tr>\n",
       "    <tr>\n",
       "      <th>1</th>\n",
       "      <td>1995-01-02</td>\n",
       "      <td>73.5</td>\n",
       "    </tr>\n",
       "    <tr>\n",
       "      <th>2</th>\n",
       "      <td>1995-01-03</td>\n",
       "      <td>72.6</td>\n",
       "    </tr>\n",
       "    <tr>\n",
       "      <th>3</th>\n",
       "      <td>1995-01-04</td>\n",
       "      <td>75.2</td>\n",
       "    </tr>\n",
       "    <tr>\n",
       "      <th>4</th>\n",
       "      <td>1995-01-05</td>\n",
       "      <td>74.8</td>\n",
       "    </tr>\n",
       "  </tbody>\n",
       "</table>\n",
       "</div>"
      ],
      "text/plain": [
       "        Date  temperature\n",
       "0 1995-01-01         72.4\n",
       "1 1995-01-02         73.5\n",
       "2 1995-01-03         72.6\n",
       "3 1995-01-04         75.2\n",
       "4 1995-01-05         74.8"
      ]
     },
     "execution_count": 15,
     "metadata": {},
     "output_type": "execute_result"
    }
   ],
   "source": [
    "df.head()"
   ]
  },
  {
   "cell_type": "code",
   "execution_count": 16,
   "metadata": {},
   "outputs": [
    {
     "data": {
      "text/plain": [
       "<matplotlib.axes._subplots.AxesSubplot at 0x7f78a49058d0>"
      ]
     },
     "execution_count": 16,
     "metadata": {},
     "output_type": "execute_result"
    },
    {
     "data": {
      "image/png": "[encoded data removed]",
      "text/plain": [
       "<Figure size 432x288 with 1 Axes>"
      ]
     },
     "metadata": {
      "needs_background": "light"
     },
     "output_type": "display_data"
    }
   ],
   "source": [
    "df.temperature.plot()"
   ]
  },
  {
   "cell_type": "code",
   "execution_count": 17,
   "metadata": {
    "scrolled": true
   },
   "outputs": [
    {
     "data": {
      "text/html": [
       "<div>\n",
       "<style scoped>\n",
       "    .dataframe tbody tr th:only-of-type {\n",
       "        vertical-align: middle;\n",
       "    }\n",
       "\n",
       "    .dataframe tbody tr th {\n",
       "        vertical-align: top;\n",
       "    }\n",
       "\n",
       "    .dataframe thead th {\n",
       "        text-align: right;\n",
       "    }\n",
       "</style>\n",
       "<table border=\"1\" class=\"dataframe\">\n",
       "  <thead>\n",
       "    <tr style=\"text-align: right;\">\n",
       "      <th></th>\n",
       "      <th>Date</th>\n",
       "      <th>temperature</th>\n",
       "    </tr>\n",
       "  </thead>\n",
       "  <tbody>\n",
       "    <tr>\n",
       "      <th>664</th>\n",
       "      <td>1996-10-26</td>\n",
       "      <td>-99.0</td>\n",
       "    </tr>\n",
       "    <tr>\n",
       "      <th>1323</th>\n",
       "      <td>1998-08-16</td>\n",
       "      <td>-99.0</td>\n",
       "    </tr>\n",
       "    <tr>\n",
       "      <th>1453</th>\n",
       "      <td>1998-12-24</td>\n",
       "      <td>-99.0</td>\n",
       "    </tr>\n",
       "    <tr>\n",
       "      <th>1454</th>\n",
       "      <td>1998-12-25</td>\n",
       "      <td>-99.0</td>\n",
       "    </tr>\n",
       "    <tr>\n",
       "      <th>1459</th>\n",
       "      <td>1998-12-30</td>\n",
       "      <td>-99.0</td>\n",
       "    </tr>\n",
       "    <tr>\n",
       "      <th>1460</th>\n",
       "      <td>1998-12-31</td>\n",
       "      <td>-99.0</td>\n",
       "    </tr>\n",
       "    <tr>\n",
       "      <th>1470</th>\n",
       "      <td>1999-01-10</td>\n",
       "      <td>-99.0</td>\n",
       "    </tr>\n",
       "    <tr>\n",
       "      <th>2725</th>\n",
       "      <td>2002-06-18</td>\n",
       "      <td>-99.0</td>\n",
       "    </tr>\n",
       "    <tr>\n",
       "      <th>2726</th>\n",
       "      <td>2002-06-19</td>\n",
       "      <td>-99.0</td>\n",
       "    </tr>\n",
       "    <tr>\n",
       "      <th>2727</th>\n",
       "      <td>2002-06-20</td>\n",
       "      <td>-99.0</td>\n",
       "    </tr>\n",
       "    <tr>\n",
       "      <th>2728</th>\n",
       "      <td>2002-06-21</td>\n",
       "      <td>-99.0</td>\n",
       "    </tr>\n",
       "    <tr>\n",
       "      <th>2855</th>\n",
       "      <td>2002-10-26</td>\n",
       "      <td>-99.0</td>\n",
       "    </tr>\n",
       "    <tr>\n",
       "      <th>2934</th>\n",
       "      <td>2003-01-13</td>\n",
       "      <td>-99.0</td>\n",
       "    </tr>\n",
       "    <tr>\n",
       "      <th>4622</th>\n",
       "      <td>2007-08-28</td>\n",
       "      <td>-99.0</td>\n",
       "    </tr>\n",
       "    <tr>\n",
       "      <th>5015</th>\n",
       "      <td>2008-09-24</td>\n",
       "      <td>-99.0</td>\n",
       "    </tr>\n",
       "    <tr>\n",
       "      <th>5212</th>\n",
       "      <td>2009-04-09</td>\n",
       "      <td>-99.0</td>\n",
       "    </tr>\n",
       "    <tr>\n",
       "      <th>6976</th>\n",
       "      <td>2014-02-06</td>\n",
       "      <td>-99.0</td>\n",
       "    </tr>\n",
       "    <tr>\n",
       "      <th>7739</th>\n",
       "      <td>2016-03-10</td>\n",
       "      <td>-99.0</td>\n",
       "    </tr>\n",
       "    <tr>\n",
       "      <th>7985</th>\n",
       "      <td>2016-11-11</td>\n",
       "      <td>-99.0</td>\n",
       "    </tr>\n",
       "    <tr>\n",
       "      <th>8718</th>\n",
       "      <td>2018-11-14</td>\n",
       "      <td>-99.0</td>\n",
       "    </tr>\n",
       "    <tr>\n",
       "      <th>8721</th>\n",
       "      <td>2018-11-17</td>\n",
       "      <td>-99.0</td>\n",
       "    </tr>\n",
       "    <tr>\n",
       "      <th>8879</th>\n",
       "      <td>2019-04-24</td>\n",
       "      <td>-99.0</td>\n",
       "    </tr>\n",
       "    <tr>\n",
       "      <th>8901</th>\n",
       "      <td>2019-05-16</td>\n",
       "      <td>-99.0</td>\n",
       "    </tr>\n",
       "    <tr>\n",
       "      <th>8902</th>\n",
       "      <td>2019-05-17</td>\n",
       "      <td>-99.0</td>\n",
       "    </tr>\n",
       "    <tr>\n",
       "      <th>8903</th>\n",
       "      <td>2019-05-18</td>\n",
       "      <td>-99.0</td>\n",
       "    </tr>\n",
       "  </tbody>\n",
       "</table>\n",
       "</div>"
      ],
      "text/plain": [
       "           Date  temperature\n",
       "664  1996-10-26        -99.0\n",
       "1323 1998-08-16        -99.0\n",
       "1453 1998-12-24        -99.0\n",
       "1454 1998-12-25        -99.0\n",
       "1459 1998-12-30        -99.0\n",
       "1460 1998-12-31        -99.0\n",
       "1470 1999-01-10        -99.0\n",
       "2725 2002-06-18        -99.0\n",
       "2726 2002-06-19        -99.0\n",
       "2727 2002-06-20        -99.0\n",
       "2728 2002-06-21        -99.0\n",
       "2855 2002-10-26        -99.0\n",
       "2934 2003-01-13        -99.0\n",
       "4622 2007-08-28        -99.0\n",
       "5015 2008-09-24        -99.0\n",
       "5212 2009-04-09        -99.0\n",
       "6976 2014-02-06        -99.0\n",
       "7739 2016-03-10        -99.0\n",
       "7985 2016-11-11        -99.0\n",
       "8718 2018-11-14        -99.0\n",
       "8721 2018-11-17        -99.0\n",
       "8879 2019-04-24        -99.0\n",
       "8901 2019-05-16        -99.0\n",
       "8902 2019-05-17        -99.0\n",
       "8903 2019-05-18        -99.0"
      ]
     },
     "execution_count": 17,
     "metadata": {},
     "output_type": "execute_result"
    }
   ],
   "source": [
    "df.loc[df['temperature'] < 0]"
   ]
  },
  {
   "cell_type": "code",
   "execution_count": 18,
   "metadata": {},
   "outputs": [],
   "source": [
    "idx = df.loc[df[\"temperature\"] < 0].index"
   ]
  },
  {
   "cell_type": "code",
   "execution_count": 19,
   "metadata": {},
   "outputs": [
    {
     "name": "stdout",
     "output_type": "stream",
     "text": [
      "82.9\n",
      "82.1\n",
      "79.6\n",
      "84.3\n",
      "-99.0\n",
      "83.7\n",
      "81.0\n",
      "82.0\n",
      "81.4\n"
     ]
    }
   ],
   "source": [
    "for i in range(-4,5):\n",
    "    print(df.iloc[idx[0] + i]['temperature'])"
   ]
  },
  {
   "cell_type": "code",
   "execution_count": 20,
   "metadata": {},
   "outputs": [],
   "source": [
    "idx = df.loc[df['temperature'] < 0].index"
   ]
  },
  {
   "cell_type": "code",
   "execution_count": 21,
   "metadata": {},
   "outputs": [],
   "source": [
    "for i in idx:\n",
    "    if df.iloc[i+1][1] > 0:\n",
    "        df.iloc[i,1] = (df.iloc[i-1, 1] + df.iloc[i+1, 1]) / 2\n",
    "    else:\n",
    "        df.iloc[i,1] = (df.iloc[i-1, 1])"
   ]
  },
  {
   "cell_type": "code",
   "execution_count": 22,
   "metadata": {},
   "outputs": [],
   "source": [
    "# for i in idx:\n",
    "#     for j in range(-4,5):\n",
    "#         print(df.iloc[i + j]['temperature'])"
   ]
  },
  {
   "cell_type": "code",
   "execution_count": 23,
   "metadata": {
    "scrolled": true
   },
   "outputs": [
    {
     "data": {
      "text/plain": [
       "<matplotlib.axes._subplots.AxesSubplot at 0x7f78a101b9b0>"
      ]
     },
     "execution_count": 23,
     "metadata": {},
     "output_type": "execute_result"
    },
    {
     "data": {
      "image/png": "[encoded data removed]",
      "text/plain": [
       "<Figure size 432x288 with 1 Axes>"
      ]
     },
     "metadata": {
      "needs_background": "light"
     },
     "output_type": "display_data"
    }
   ],
   "source": [
    "df.plot(x='Date')"
   ]
  },
  {
   "cell_type": "code",
   "execution_count": 24,
   "metadata": {},
   "outputs": [
    {
     "data": {
      "text/html": [
       "<div>\n",
       "<style scoped>\n",
       "    .dataframe tbody tr th:only-of-type {\n",
       "        vertical-align: middle;\n",
       "    }\n",
       "\n",
       "    .dataframe tbody tr th {\n",
       "        vertical-align: top;\n",
       "    }\n",
       "\n",
       "    .dataframe thead th {\n",
       "        text-align: right;\n",
       "    }\n",
       "</style>\n",
       "<table border=\"1\" class=\"dataframe\">\n",
       "  <thead>\n",
       "    <tr style=\"text-align: right;\">\n",
       "      <th></th>\n",
       "      <th>temperature</th>\n",
       "    </tr>\n",
       "  </thead>\n",
       "  <tbody>\n",
       "    <tr>\n",
       "      <th>count</th>\n",
       "      <td>9158.000000</td>\n",
       "    </tr>\n",
       "    <tr>\n",
       "      <th>mean</th>\n",
       "      <td>83.407043</td>\n",
       "    </tr>\n",
       "    <tr>\n",
       "      <th>std</th>\n",
       "      <td>4.730817</td>\n",
       "    </tr>\n",
       "    <tr>\n",
       "      <th>min</th>\n",
       "      <td>69.700000</td>\n",
       "    </tr>\n",
       "    <tr>\n",
       "      <th>25%</th>\n",
       "      <td>79.400000</td>\n",
       "    </tr>\n",
       "    <tr>\n",
       "      <th>50%</th>\n",
       "      <td>83.800000</td>\n",
       "    </tr>\n",
       "    <tr>\n",
       "      <th>75%</th>\n",
       "      <td>87.000000</td>\n",
       "    </tr>\n",
       "    <tr>\n",
       "      <th>max</th>\n",
       "      <td>99.000000</td>\n",
       "    </tr>\n",
       "  </tbody>\n",
       "</table>\n",
       "</div>"
      ],
      "text/plain": [
       "       temperature\n",
       "count  9158.000000\n",
       "mean     83.407043\n",
       "std       4.730817\n",
       "min      69.700000\n",
       "25%      79.400000\n",
       "50%      83.800000\n",
       "75%      87.000000\n",
       "max      99.000000"
      ]
     },
     "execution_count": 24,
     "metadata": {},
     "output_type": "execute_result"
    }
   ],
   "source": [
    "df.describe()"
   ]
  },
  {
   "cell_type": "code",
   "execution_count": 25,
   "metadata": {},
   "outputs": [
    {
     "data": {
      "text/html": [
       "<div>\n",
       "<style scoped>\n",
       "    .dataframe tbody tr th:only-of-type {\n",
       "        vertical-align: middle;\n",
       "    }\n",
       "\n",
       "    .dataframe tbody tr th {\n",
       "        vertical-align: top;\n",
       "    }\n",
       "\n",
       "    .dataframe thead th {\n",
       "        text-align: right;\n",
       "    }\n",
       "</style>\n",
       "<table border=\"1\" class=\"dataframe\">\n",
       "  <thead>\n",
       "    <tr style=\"text-align: right;\">\n",
       "      <th></th>\n",
       "      <th>Date</th>\n",
       "      <th>temperature</th>\n",
       "    </tr>\n",
       "  </thead>\n",
       "  <tbody>\n",
       "    <tr>\n",
       "      <th>87</th>\n",
       "      <td>1995-03-29</td>\n",
       "      <td>99.0</td>\n",
       "    </tr>\n",
       "    <tr>\n",
       "      <th>172</th>\n",
       "      <td>1995-06-22</td>\n",
       "      <td>99.0</td>\n",
       "    </tr>\n",
       "  </tbody>\n",
       "</table>\n",
       "</div>"
      ],
      "text/plain": [
       "          Date  temperature\n",
       "87  1995-03-29         99.0\n",
       "172 1995-06-22         99.0"
      ]
     },
     "execution_count": 25,
     "metadata": {},
     "output_type": "execute_result"
    }
   ],
   "source": [
    "df.loc[df['temperature'] >= 99]"
   ]
  },
  {
   "cell_type": "code",
   "execution_count": 26,
   "metadata": {},
   "outputs": [],
   "source": [
    "idx = df.loc[df['temperature'] >= 99].index"
   ]
  },
  {
   "cell_type": "code",
   "execution_count": 27,
   "metadata": {},
   "outputs": [
    {
     "name": "stdout",
     "output_type": "stream",
     "text": [
      "84.0\n",
      "84.2\n",
      "82.6\n",
      "84.2\n",
      "99.0\n",
      "85.1\n",
      "84.3\n",
      "84.7\n",
      "84.6\n"
     ]
    }
   ],
   "source": [
    "for i in range(-4,5):\n",
    "    print(df.iloc[87 + i]['temperature'])"
   ]
  },
  {
   "cell_type": "code",
   "execution_count": 28,
   "metadata": {},
   "outputs": [
    {
     "name": "stdout",
     "output_type": "stream",
     "text": [
      "89.7\n",
      "89.9\n",
      "91.3\n",
      "86.5\n",
      "99.0\n",
      "84.1\n",
      "85.6\n",
      "85.1\n",
      "87.4\n"
     ]
    }
   ],
   "source": [
    "for i in range(-4,5):\n",
    "    print(df.iloc[172 + i]['temperature'])"
   ]
  },
  {
   "cell_type": "code",
   "execution_count": 29,
   "metadata": {},
   "outputs": [],
   "source": [
    "for i in idx:\n",
    "    if df.iloc[i+1][1] < 99:\n",
    "        df.iloc[i,1] = (df.iloc[i-1, 1] + df.iloc[i+1, 1]) / 2\n",
    "    else:\n",
    "        df.iloc[i,1] = (df.iloc[i-1, 1])"
   ]
  },
  {
   "cell_type": "code",
   "execution_count": 30,
   "metadata": {},
   "outputs": [
    {
     "data": {
      "text/plain": [
       "<matplotlib.axes._subplots.AxesSubplot at 0x7f789cc0fc50>"
      ]
     },
     "execution_count": 30,
     "metadata": {},
     "output_type": "execute_result"
    },
    {
     "data": {
      "image/png": "[encoded data removed]",
      "text/plain": [
       "<Figure size 432x288 with 1 Axes>"
      ]
     },
     "metadata": {
      "needs_background": "light"
     },
     "output_type": "display_data"
    }
   ],
   "source": [
    "df.plot(x='Date')"
   ]
  },
  {
   "cell_type": "code",
   "execution_count": 31,
   "metadata": {},
   "outputs": [
    {
     "data": {
      "text/html": [
       "<div>\n",
       "<style scoped>\n",
       "    .dataframe tbody tr th:only-of-type {\n",
       "        vertical-align: middle;\n",
       "    }\n",
       "\n",
       "    .dataframe tbody tr th {\n",
       "        vertical-align: top;\n",
       "    }\n",
       "\n",
       "    .dataframe thead th {\n",
       "        text-align: right;\n",
       "    }\n",
       "</style>\n",
       "<table border=\"1\" class=\"dataframe\">\n",
       "  <thead>\n",
       "    <tr style=\"text-align: right;\">\n",
       "      <th></th>\n",
       "      <th>temperature</th>\n",
       "    </tr>\n",
       "  </thead>\n",
       "  <tbody>\n",
       "    <tr>\n",
       "      <th>count</th>\n",
       "      <td>9158.00000</td>\n",
       "    </tr>\n",
       "    <tr>\n",
       "      <th>mean</th>\n",
       "      <td>83.40398</td>\n",
       "    </tr>\n",
       "    <tr>\n",
       "      <th>std</th>\n",
       "      <td>4.72526</td>\n",
       "    </tr>\n",
       "    <tr>\n",
       "      <th>min</th>\n",
       "      <td>69.70000</td>\n",
       "    </tr>\n",
       "    <tr>\n",
       "      <th>25%</th>\n",
       "      <td>79.40000</td>\n",
       "    </tr>\n",
       "    <tr>\n",
       "      <th>50%</th>\n",
       "      <td>83.80000</td>\n",
       "    </tr>\n",
       "    <tr>\n",
       "      <th>75%</th>\n",
       "      <td>87.00000</td>\n",
       "    </tr>\n",
       "    <tr>\n",
       "      <th>max</th>\n",
       "      <td>97.90000</td>\n",
       "    </tr>\n",
       "  </tbody>\n",
       "</table>\n",
       "</div>"
      ],
      "text/plain": [
       "       temperature\n",
       "count   9158.00000\n",
       "mean      83.40398\n",
       "std        4.72526\n",
       "min       69.70000\n",
       "25%       79.40000\n",
       "50%       83.80000\n",
       "75%       87.00000\n",
       "max       97.90000"
      ]
     },
     "execution_count": 31,
     "metadata": {},
     "output_type": "execute_result"
    }
   ],
   "source": [
    "df.describe()"
   ]
  },
  {
   "cell_type": "code",
   "execution_count": 32,
   "metadata": {},
   "outputs": [],
   "source": [
    "idx = df.loc[df['temperature'] == max(df[\"temperature\"])].index"
   ]
  },
  {
   "cell_type": "code",
   "execution_count": 33,
   "metadata": {
    "scrolled": false
   },
   "outputs": [
    {
     "name": "stdout",
     "output_type": "stream",
     "text": [
      "           Date  temperature\n",
      "1239 1998-05-24         93.8\n",
      "           Date  temperature\n",
      "1240 1998-05-25         93.1\n",
      "           Date  temperature\n",
      "1241 1998-05-26         94.0\n",
      "           Date  temperature\n",
      "1242 1998-05-27         97.8\n",
      "           Date  temperature\n",
      "1243 1998-05-28         97.9\n",
      "           Date  temperature\n",
      "1244 1998-05-29         96.1\n",
      "           Date  temperature\n",
      "1245 1998-05-30         92.6\n",
      "           Date  temperature\n",
      "1246 1998-05-31         92.5\n",
      "           Date  temperature\n",
      "1247 1998-06-01         91.4\n"
     ]
    }
   ],
   "source": [
    "for i in range(-4,5):\n",
    "    print(df.loc[idx + i])"
   ]
  },
  {
   "cell_type": "code",
   "execution_count": 34,
   "metadata": {},
   "outputs": [
    {
     "data": {
      "text/plain": [
       "(9158, 2)"
      ]
     },
     "execution_count": 34,
     "metadata": {},
     "output_type": "execute_result"
    }
   ],
   "source": [
    "df.shape"
   ]
  },
  {
   "cell_type": "code",
   "execution_count": 35,
   "metadata": {},
   "outputs": [],
   "source": [
    "dff = df.temperature"
   ]
  },
  {
   "cell_type": "code",
   "execution_count": 36,
   "metadata": {},
   "outputs": [],
   "source": [
    "df.to_csv('processed-temperature.csv')"
   ]
  },
  {
   "cell_type": "code",
   "execution_count": 37,
   "metadata": {},
   "outputs": [],
   "source": [
    "from pandas.plotting import lag_plot"
   ]
  },
  {
   "cell_type": "code",
   "execution_count": 38,
   "metadata": {},
   "outputs": [
    {
     "data": {
      "text/plain": [
       "<matplotlib.axes._subplots.AxesSubplot at 0x7f789c9e2a20>"
      ]
     },
     "execution_count": 38,
     "metadata": {},
     "output_type": "execute_result"
    },
    {
     "data": {
      "image/png": "[encoded data removed]",
      "text/plain": [
       "<Figure size 432x288 with 1 Axes>"
      ]
     },
     "metadata": {
      "needs_background": "light"
     },
     "output_type": "display_data"
    }
   ],
   "source": [
    "lag_plot(df['temperature'])"
   ]
  },
  {
   "cell_type": "code",
   "execution_count": 39,
   "metadata": {},
   "outputs": [
    {
     "data": {
      "text/plain": [
       "array([[Timestamp('1995-01-01 00:00:00'), 72.4],\n",
       "       [Timestamp('1995-01-02 00:00:00'), 73.5],\n",
       "       [Timestamp('1995-01-03 00:00:00'), 72.6],\n",
       "       ...,\n",
       "       [Timestamp('2020-01-25 00:00:00'), 76.8],\n",
       "       [Timestamp('2020-01-26 00:00:00'), 78.7],\n",
       "       [Timestamp('2020-01-27 00:00:00'), 80.0]], dtype=object)"
      ]
     },
     "execution_count": 39,
     "metadata": {},
     "output_type": "execute_result"
    }
   ],
   "source": [
    "df.values"
   ]
  },
  {
   "cell_type": "code",
   "execution_count": 40,
   "metadata": {},
   "outputs": [
    {
     "name": "stdout",
     "output_type": "stream",
     "text": [
      "          t-1       t+1\n",
      "t-1  1.000000  0.933585\n",
      "t+1  0.933585  1.000000\n"
     ]
    }
   ],
   "source": [
    "dataframe = pd.concat([df['temperature'].shift(1), df.temperature], axis=1)\n",
    "dataframe.columns = ['t-1', 't+1']\n",
    "result = dataframe.corr()\n",
    "print(result)"
   ]
  },
  {
   "cell_type": "code",
   "execution_count": 41,
   "metadata": {},
   "outputs": [],
   "source": [
    "from pandas.plotting import autocorrelation_plot"
   ]
  },
  {
   "cell_type": "code",
   "execution_count": 42,
   "metadata": {
    "scrolled": true
   },
   "outputs": [
    {
     "data": {
      "text/plain": [
       "<matplotlib.axes._subplots.AxesSubplot at 0x7f789c977128>"
      ]
     },
     "execution_count": 42,
     "metadata": {},
     "output_type": "execute_result"
    },
    {
     "data": {
      "image/png": "[encoded data removed]",
      "text/plain": [
       "<Figure size 432x288 with 1 Axes>"
      ]
     },
     "metadata": {
      "needs_background": "light"
     },
     "output_type": "display_data"
    }
   ],
   "source": [
    "autocorrelation_plot(df['temperature'])"
   ]
  },
  {
   "cell_type": "code",
   "execution_count": 43,
   "metadata": {},
   "outputs": [],
   "source": [
    "wl = pd.read_csv('chennai_reservoir_levels.csv')"
   ]
  },
  {
   "cell_type": "code",
   "execution_count": 44,
   "metadata": {
    "scrolled": true
   },
   "outputs": [
    {
     "data": {
      "text/plain": [
       "<matplotlib.axes._subplots.AxesSubplot at 0x7f789c7e5c50>"
      ]
     },
     "execution_count": 44,
     "metadata": {},
     "output_type": "execute_result"
    },
    {
     "data": {
      "image/png": "[encoded data removed]",
      "text/plain": [
       "<Figure size 432x288 with 1 Axes>"
      ]
     },
     "metadata": {
      "needs_background": "light"
     },
     "output_type": "display_data"
    }
   ],
   "source": [
    "autocorrelation_plot(wl['CHOLAVARAM'])"
   ]
  },
  {
   "cell_type": "code",
   "execution_count": 45,
   "metadata": {},
   "outputs": [
    {
     "data": {
      "text/plain": [
       "(array([-10,  -9,  -8,  -7,  -6,  -5,  -4,  -3,  -2,  -1,   0,   1,   2,\n",
       "          3,   4,   5,   6,   7,   8,   9,  10]),\n",
       " array([0.98145422, 0.98393337, 0.98626057, 0.98841518, 0.9903979 ,\n",
       "        0.99221822, 0.99384892, 0.99529025, 0.99674806, 0.99788681,\n",
       "        1.        , 0.99788681, 0.99674806, 0.99529025, 0.99384892,\n",
       "        0.99221822, 0.9903979 , 0.98841518, 0.98626057, 0.98393337,\n",
       "        0.98145422]),\n",
       " <matplotlib.collections.LineCollection at 0x7f789c6f5160>,\n",
       " <matplotlib.lines.Line2D at 0x7f789c6f58d0>)"
      ]
     },
     "execution_count": 45,
     "metadata": {},
     "output_type": "execute_result"
    },
    {
     "data": {
      "image/png": "[encoded data removed]",
      "text/plain": [
       "<Figure size 432x288 with 1 Axes>"
      ]
     },
     "metadata": {
      "needs_background": "light"
     },
     "output_type": "display_data"
    }
   ],
   "source": [
    "plt.acorr(wl['CHOLAVARAM'])"
   ]
  },
  {
   "cell_type": "code",
   "execution_count": 46,
   "metadata": {},
   "outputs": [],
   "source": [
    "# autocorrelation_plot?"
   ]
  },
  {
   "cell_type": "code",
   "execution_count": 47,
   "metadata": {},
   "outputs": [
    {
     "name": "stderr",
     "output_type": "stream",
     "text": [
      "Using TensorFlow backend.\n"
     ]
    }
   ],
   "source": [
    "import keras"
   ]
  },
  {
   "cell_type": "code",
   "execution_count": 48,
   "metadata": {},
   "outputs": [],
   "source": [
    "from keras import layers"
   ]
  },
  {
   "cell_type": "code",
   "execution_count": 49,
   "metadata": {},
   "outputs": [],
   "source": [
    "from keras import Sequential"
   ]
  },
  {
   "cell_type": "code",
   "execution_count": 50,
   "metadata": {},
   "outputs": [
    {
     "name": "stdout",
     "output_type": "stream",
     "text": [
      "WARNING:tensorflow:From /home/vigneshwaran/environments/base/lib/python3.6/site-packages/tensorflow/python/framework/op_def_library.py:263: colocate_with (from tensorflow.python.framework.ops) is deprecated and will be removed in a future version.\n",
      "Instructions for updating:\n",
      "Colocations handled automatically by placer.\n",
      "_________________________________________________________________\n",
      "Layer (type)                 Output Shape              Param #   \n",
      "=================================================================\n",
      "embedding_1 (Embedding)      (None, None, 64)          64000     \n",
      "_________________________________________________________________\n",
      "lstm_1 (LSTM)                (None, 128)               98816     \n",
      "_________________________________________________________________\n",
      "dense_1 (Dense)              (None, 10)                1290      \n",
      "=================================================================\n",
      "Total params: 164,106\n",
      "Trainable params: 164,106\n",
      "Non-trainable params: 0\n",
      "_________________________________________________________________\n"
     ]
    }
   ],
   "source": [
    "model = Sequential()\n",
    "\n",
    "model.add(layers.Embedding(input_dim=1000, output_dim=64))\n",
    "\n",
    "model.add(layers.LSTM(128))\n",
    "\n",
    "model.add(layers.Dense(10))\n",
    "\n",
    "model.summary()"
   ]
  },
  {
   "cell_type": "code",
   "execution_count": 51,
   "metadata": {},
   "outputs": [],
   "source": [
    "# model.fit?"
   ]
  },
  {
   "cell_type": "code",
   "execution_count": 52,
   "metadata": {},
   "outputs": [],
   "source": [
    "rain = pd.read_csv('chennai_reservoir_rainfall.csv')"
   ]
  },
  {
   "cell_type": "code",
   "execution_count": 53,
   "metadata": {
    "scrolled": true
   },
   "outputs": [
    {
     "data": {
      "text/plain": [
       "<matplotlib.axes._subplots.AxesSubplot at 0x7f783794c518>"
      ]
     },
     "execution_count": 53,
     "metadata": {},
     "output_type": "execute_result"
    },
    {
     "data": {
      "image/png": "[encoded data removed]",
      "text/plain": [
       "<Figure size 432x288 with 1 Axes>"
      ]
     },
     "metadata": {
      "needs_background": "light"
     },
     "output_type": "display_data"
    }
   ],
   "source": [
    "rain.plot()"
   ]
  },
  {
   "cell_type": "code",
   "execution_count": 54,
   "metadata": {},
   "outputs": [
    {
     "data": {
      "text/plain": [
       "[<matplotlib.lines.Line2D at 0x7f7837853a90>]"
      ]
     },
     "execution_count": 54,
     "metadata": {},
     "output_type": "execute_result"
    },
    {
     "data": {
      "image/png": "[encoded data removed]",
      "text/plain": [
       "<Figure size 432x288 with 1 Axes>"
      ]
     },
     "metadata": {
      "needs_background": "light"
     },
     "output_type": "display_data"
    }
   ],
   "source": [
    "plt.plot(rain['POONDI'])"
   ]
  },
  {
   "cell_type": "code",
   "execution_count": 55,
   "metadata": {},
   "outputs": [
    {
     "data": {
      "text/plain": [
       "[<matplotlib.lines.Line2D at 0x7f7837836588>]"
      ]
     },
     "execution_count": 55,
     "metadata": {},
     "output_type": "execute_result"
    },
    {
     "data": {
      "image/png": "[encoded data removed]",
      "text/plain": [
       "<Figure size 432x288 with 1 Axes>"
      ]
     },
     "metadata": {
      "needs_background": "light"
     },
     "output_type": "display_data"
    }
   ],
   "source": [
    "plt.plot(rain['CHEMBARAMBAKKAM'])"
   ]
  },
  {
   "cell_type": "code",
   "execution_count": 56,
   "metadata": {},
   "outputs": [
    {
     "data": {
      "text/plain": [
       "[<matplotlib.lines.Line2D at 0x7f7837791588>]"
      ]
     },
     "execution_count": 56,
     "metadata": {},
     "output_type": "execute_result"
    },
    {
     "data": {
      "image/png": "[encoded data removed]",
      "text/plain": [
       "<Figure size 432x288 with 1 Axes>"
      ]
     },
     "metadata": {
      "needs_background": "light"
     },
     "output_type": "display_data"
    }
   ],
   "source": [
    "plt.plot(rain['REDHILLS'])"
   ]
  },
  {
   "cell_type": "code",
   "execution_count": 57,
   "metadata": {},
   "outputs": [
    {
     "data": {
      "text/plain": [
       "[<matplotlib.lines.Line2D at 0x7f783776bf98>]"
      ]
     },
     "execution_count": 57,
     "metadata": {},
     "output_type": "execute_result"
    },
    {
     "data": {
      "image/png": "[encoded data removed]",
      "text/plain": [
       "<Figure size 432x288 with 1 Axes>"
      ]
     },
     "metadata": {
      "needs_background": "light"
     },
     "output_type": "display_data"
    }
   ],
   "source": [
    "plt.plot(rain['CHOLAVARAM'])"
   ]
  },
  {
   "cell_type": "code",
   "execution_count": 58,
   "metadata": {},
   "outputs": [],
   "source": [
    "values = pd.DataFrame(df['temperature'].values)\n",
    "dataframe = pd.concat([values.shift(1), values], axis=1)\n",
    "dataframe.columns = ['t-1', 't+1']\n",
    "X = dataframe.values\n",
    "train, test = X[1:len(X)-300], X[len(X)-300:]\n",
    "train_X, train_y = train[:,0], train[:,1]\n",
    "test_X, test_y = test[:,0], test[:,1]"
   ]
  },
  {
   "cell_type": "code",
   "execution_count": 59,
   "metadata": {},
   "outputs": [],
   "source": [
    "# values = pd.DataFrame(df['temperature'].values)"
   ]
  },
  {
   "cell_type": "code",
   "execution_count": 60,
   "metadata": {},
   "outputs": [
    {
     "data": {
      "text/plain": [
       "array([72.4, 73.5, 72.6, ..., 87.8, 89.3, 88.2])"
      ]
     },
     "execution_count": 60,
     "metadata": {},
     "output_type": "execute_result"
    }
   ],
   "source": [
    "train_X"
   ]
  },
  {
   "cell_type": "code",
   "execution_count": 61,
   "metadata": {},
   "outputs": [],
   "source": [
    "import keras"
   ]
  },
  {
   "cell_type": "code",
   "execution_count": 62,
   "metadata": {},
   "outputs": [],
   "source": [
    "from keras import layers"
   ]
  },
  {
   "cell_type": "code",
   "execution_count": 63,
   "metadata": {},
   "outputs": [],
   "source": [
    "from keras import Sequential"
   ]
  },
  {
   "cell_type": "code",
   "execution_count": 64,
   "metadata": {},
   "outputs": [],
   "source": [
    "from keras import backend as K\n",
    "cfg = K.tf.ConfigProto()\n",
    "cfg.gpu_options.allow_growth = True\n",
    "K.set_session(K.tf.Session(config=cfg))"
   ]
  },
  {
   "cell_type": "code",
   "execution_count": 65,
   "metadata": {
    "scrolled": false
   },
   "outputs": [
    {
     "name": "stdout",
     "output_type": "stream",
     "text": [
      "_________________________________________________________________\n",
      "Layer (type)                 Output Shape              Param #   \n",
      "=================================================================\n",
      "embedding_2 (Embedding)      (None, None, 64)          64000     \n",
      "_________________________________________________________________\n",
      "simple_rnn_1 (SimpleRNN)     (None, 32)                3104      \n",
      "_________________________________________________________________\n",
      "dense_2 (Dense)              (None, 1)                 33        \n",
      "=================================================================\n",
      "Total params: 67,137\n",
      "Trainable params: 67,137\n",
      "Non-trainable params: 0\n",
      "_________________________________________________________________\n"
     ]
    }
   ],
   "source": [
    "model = Sequential()\n",
    "\n",
    "model.add(layers.Embedding(input_dim=1000, output_dim=64))\n",
    "\n",
    "model.add(layers.SimpleRNN(32))\n",
    "\n",
    "model.add(layers.Dense(1))\n",
    "\n",
    "model.summary()"
   ]
  },
  {
   "cell_type": "code",
   "execution_count": 66,
   "metadata": {},
   "outputs": [],
   "source": [
    "#series.shape"
   ]
  },
  {
   "cell_type": "code",
   "execution_count": 67,
   "metadata": {},
   "outputs": [],
   "source": [
    "x = train_X"
   ]
  },
  {
   "cell_type": "code",
   "execution_count": 68,
   "metadata": {},
   "outputs": [],
   "source": [
    "y = train_y"
   ]
  },
  {
   "cell_type": "code",
   "execution_count": 69,
   "metadata": {},
   "outputs": [],
   "source": [
    "model.compile(loss='mse', optimizer='adam', metrics=['accuracy'])"
   ]
  },
  {
   "cell_type": "code",
   "execution_count": 70,
   "metadata": {
    "scrolled": true
   },
   "outputs": [
    {
     "name": "stdout",
     "output_type": "stream",
     "text": [
      "WARNING:tensorflow:From /home/vigneshwaran/environments/base/lib/python3.6/site-packages/tensorflow/python/ops/math_ops.py:3066: to_int32 (from tensorflow.python.ops.math_ops) is deprecated and will be removed in a future version.\n",
      "Instructions for updating:\n",
      "Use tf.cast instead.\n",
      "Epoch 1/60\n",
      "8857/8857 [==============================] - 2s 172us/step - loss: 6127.4494 - acc: 0.0000e+00\n",
      "Epoch 2/60\n",
      "8857/8857 [==============================] - 1s 61us/step - loss: 4545.1988 - acc: 0.0000e+00\n",
      "Epoch 3/60\n",
      "8857/8857 [==============================] - 1s 61us/step - loss: 3826.0662 - acc: 0.0000e+00\n",
      "Epoch 4/60\n",
      "8857/8857 [==============================] - 1s 65us/step - loss: 3263.1385 - acc: 0.0000e+00\n",
      "Epoch 5/60\n",
      "8857/8857 [==============================] - 1s 63us/step - loss: 2783.2756 - acc: 0.0000e+00\n",
      "Epoch 6/60\n",
      "8857/8857 [==============================] - 1s 66us/step - loss: 2366.3258 - acc: 0.0000e+00\n",
      "Epoch 7/60\n",
      "8857/8857 [==============================] - 1s 62us/step - loss: 2002.1872 - acc: 0.0000e+00\n",
      "Epoch 8/60\n",
      "8857/8857 [==============================] - 1s 63us/step - loss: 1684.1678 - acc: 0.0000e+00\n",
      "Epoch 9/60\n",
      "8857/8857 [==============================] - 1s 63us/step - loss: 1407.1282 - acc: 0.0000e+00\n",
      "Epoch 10/60\n",
      "8857/8857 [==============================] - 1s 62us/step - loss: 1166.8459 - acc: 0.0000e+00\n",
      "Epoch 11/60\n",
      "8857/8857 [==============================] - 1s 62us/step - loss: 959.7237 - acc: 0.0000e+00\n",
      "Epoch 12/60\n",
      "8857/8857 [==============================] - 1s 62us/step - loss: 782.3807 - acc: 0.0000e+00\n",
      "Epoch 13/60\n",
      "8857/8857 [==============================] - 1s 62us/step - loss: 631.7368 - acc: 0.0000e+00\n",
      "Epoch 14/60\n",
      "8857/8857 [==============================] - 1s 65us/step - loss: 505.0237 - acc: 0.0000e+00\n",
      "Epoch 15/60\n",
      "8857/8857 [==============================] - 1s 62us/step - loss: 399.6055 - acc: 0.0000e+00\n",
      "Epoch 16/60\n",
      "8857/8857 [==============================] - 1s 63us/step - loss: 312.8764 - acc: 0.0000e+00\n",
      "Epoch 17/60\n",
      "8857/8857 [==============================] - 1s 63us/step - loss: 242.5034 - acc: 0.0000e+00\n",
      "Epoch 18/60\n",
      "8857/8857 [==============================] - 1s 62us/step - loss: 186.2301 - acc: 0.0000e+00\n",
      "Epoch 19/60\n",
      "8857/8857 [==============================] - 1s 62us/step - loss: 141.9847 - acc: 0.0000e+00\n",
      "Epoch 20/60\n",
      "8857/8857 [==============================] - 1s 61us/step - loss: 107.8524 - acc: 5.6453e-04\n",
      "Epoch 21/60\n",
      "8857/8857 [==============================] - 1s 61us/step - loss: 82.0175 - acc: 0.0029\n",
      "Epoch 22/60\n",
      "8857/8857 [==============================] - 1s 64us/step - loss: 62.8977 - acc: 0.0053\n",
      "Epoch 23/60\n",
      "8857/8857 [==============================] - 1s 65us/step - loss: 49.1221 - acc: 0.0051\n",
      "Epoch 24/60\n",
      "8857/8857 [==============================] - 1s 62us/step - loss: 39.4566 - acc: 0.0067\n",
      "Epoch 25/60\n",
      "8857/8857 [==============================] - 1s 62us/step - loss: 32.8750 - acc: 0.0068\n",
      "Epoch 26/60\n",
      "8857/8857 [==============================] - 1s 62us/step - loss: 28.5369 - acc: 0.0060\n",
      "Epoch 27/60\n",
      "8857/8857 [==============================] - 1s 62us/step - loss: 25.7765 - acc: 0.0058\n",
      "Epoch 28/60\n",
      "8857/8857 [==============================] - 1s 62us/step - loss: 24.0810 - acc: 0.0056\n",
      "Epoch 29/60\n",
      "8857/8857 [==============================] - 1s 61us/step - loss: 23.0814 - acc: 0.0056\n",
      "Epoch 30/60\n",
      "8857/8857 [==============================] - 1s 63us/step - loss: 22.5222 - acc: 0.0067\n",
      "Epoch 31/60\n",
      "8857/8857 [==============================] - 1s 64us/step - loss: 22.2194 - acc: 0.0061\n",
      "Epoch 32/60\n",
      "8857/8857 [==============================] - 1s 65us/step - loss: 22.0568 - acc: 0.0061\n",
      "Epoch 33/60\n",
      "8857/8857 [==============================] - 1s 62us/step - loss: 21.9534 - acc: 0.0061\n",
      "Epoch 34/60\n",
      "8857/8857 [==============================] - 1s 62us/step - loss: 21.8147 - acc: 0.0061\n",
      "Epoch 35/60\n",
      "8857/8857 [==============================] - 1s 63us/step - loss: 21.7331 - acc: 0.0061\n",
      "Epoch 36/60\n",
      "8857/8857 [==============================] - 1s 63us/step - loss: 21.5259 - acc: 0.0062\n",
      "Epoch 37/60\n",
      "8857/8857 [==============================] - 1s 61us/step - loss: 20.7973 - acc: 0.0063\n",
      "Epoch 38/60\n",
      "8857/8857 [==============================] - 1s 62us/step - loss: 20.0812 - acc: 0.0071\n",
      "Epoch 39/60\n",
      "8857/8857 [==============================] - 1s 60us/step - loss: 18.0421 - acc: 0.0085\n",
      "Epoch 40/60\n",
      "8857/8857 [==============================] - 1s 67us/step - loss: 16.3833 - acc: 0.0099\n",
      "Epoch 41/60\n",
      "8857/8857 [==============================] - 1s 61us/step - loss: 14.1702 - acc: 0.0106\n",
      "Epoch 42/60\n",
      "8857/8857 [==============================] - 1s 62us/step - loss: 12.0173 - acc: 0.0114\n",
      "Epoch 43/60\n",
      "8857/8857 [==============================] - 1s 61us/step - loss: 10.2096 - acc: 0.0139\n",
      "Epoch 44/60\n",
      "8857/8857 [==============================] - 1s 63us/step - loss: 9.0603 - acc: 0.0142\n",
      "Epoch 45/60\n",
      "8857/8857 [==============================] - 1s 62us/step - loss: 7.9992 - acc: 0.0160\n",
      "Epoch 46/60\n",
      "8857/8857 [==============================] - 1s 62us/step - loss: 6.9312 - acc: 0.0170\n",
      "Epoch 47/60\n",
      "8857/8857 [==============================] - 1s 60us/step - loss: 6.4182 - acc: 0.0174\n",
      "Epoch 48/60\n",
      "8857/8857 [==============================] - 1s 64us/step - loss: 5.8902 - acc: 0.0166\n",
      "Epoch 49/60\n",
      "8857/8857 [==============================] - 1s 64us/step - loss: 5.3240 - acc: 0.0205\n",
      "Epoch 50/60\n",
      "8857/8857 [==============================] - 1s 64us/step - loss: 4.9118 - acc: 0.0229\n",
      "Epoch 51/60\n",
      "8857/8857 [==============================] - 1s 62us/step - loss: 4.5045 - acc: 0.0222\n",
      "Epoch 52/60\n",
      "8857/8857 [==============================] - 1s 62us/step - loss: 4.1218 - acc: 0.0244\n",
      "Epoch 53/60\n",
      "8857/8857 [==============================] - 1s 64us/step - loss: 3.8238 - acc: 0.0218\n",
      "Epoch 54/60\n",
      "8857/8857 [==============================] - 1s 62us/step - loss: 3.6408 - acc: 0.0240\n",
      "Epoch 55/60\n",
      "8857/8857 [==============================] - 1s 63us/step - loss: 3.4780 - acc: 0.0222\n",
      "Epoch 56/60\n",
      "8857/8857 [==============================] - 1s 62us/step - loss: 3.3672 - acc: 0.0221\n",
      "Epoch 57/60\n",
      "8857/8857 [==============================] - 1s 59us/step - loss: 3.2987 - acc: 0.0252\n",
      "Epoch 58/60\n",
      "8857/8857 [==============================] - 1s 65us/step - loss: 3.2510 - acc: 0.0222\n",
      "Epoch 59/60\n",
      "8857/8857 [==============================] - 1s 61us/step - loss: 3.1858 - acc: 0.0242\n",
      "Epoch 60/60\n",
      "8857/8857 [==============================] - 1s 63us/step - loss: 3.1498 - acc: 0.0253\n"
     ]
    },
    {
     "data": {
      "text/plain": [
       "<keras.callbacks.History at 0x7f783432a320>"
      ]
     },
     "execution_count": 70,
     "metadata": {},
     "output_type": "execute_result"
    }
   ],
   "source": [
    "model.fit(x, y, epochs=60, batch_size=64)"
   ]
  },
  {
   "cell_type": "code",
   "execution_count": 71,
   "metadata": {},
   "outputs": [],
   "source": [
    "test_Res = model.predict(test_X)"
   ]
  },
  {
   "cell_type": "code",
   "execution_count": 72,
   "metadata": {},
   "outputs": [
    {
     "data": {
      "text/plain": [
       "4.639489422980625"
      ]
     },
     "execution_count": 72,
     "metadata": {},
     "output_type": "execute_result"
    }
   ],
   "source": [
    "mean_squared_error(test_Res, test_y)"
   ]
  },
  {
   "cell_type": "code",
   "execution_count": 73,
   "metadata": {},
   "outputs": [
    {
     "data": {
      "image/png": "[encoded data removed]",
      "text/plain": [
       "<Figure size 432x288 with 1 Axes>"
      ]
     },
     "metadata": {
      "needs_background": "light"
     },
     "output_type": "display_data"
    }
   ],
   "source": [
    "plt.plot(test_y)\n",
    "plt.plot(test_Res, color='red')\n",
    "plt.show()"
   ]
  },
  {
   "cell_type": "code",
   "execution_count": 74,
   "metadata": {},
   "outputs": [
    {
     "name": "stdout",
     "output_type": "stream",
     "text": [
      "_________________________________________________________________\n",
      "Layer (type)                 Output Shape              Param #   \n",
      "=================================================================\n",
      "embedding_3 (Embedding)      (None, None, 64)          64000     \n",
      "_________________________________________________________________\n",
      "lstm_2 (LSTM)                (None, 64)                33024     \n",
      "_________________________________________________________________\n",
      "dense_3 (Dense)              (None, 1)                 65        \n",
      "=================================================================\n",
      "Total params: 97,089\n",
      "Trainable params: 97,089\n",
      "Non-trainable params: 0\n",
      "_________________________________________________________________\n"
     ]
    }
   ],
   "source": [
    "model1 = Sequential()\n",
    "\n",
    "model1.add(layers.Embedding(input_dim=1000, output_dim=64))\n",
    "\n",
    "model1.add(layers.LSTM(64))\n",
    "\n",
    "model1.add(layers.Dense(1))\n",
    "\n",
    "model1.summary()"
   ]
  },
  {
   "cell_type": "code",
   "execution_count": 75,
   "metadata": {},
   "outputs": [],
   "source": [
    "model1.compile(loss='mse', optimizer='adam', metrics=['accuracy'])"
   ]
  },
  {
   "cell_type": "code",
   "execution_count": 76,
   "metadata": {
    "scrolled": true
   },
   "outputs": [
    {
     "name": "stdout",
     "output_type": "stream",
     "text": [
      "Epoch 1/20\n",
      "8857/8857 [==============================] - 2s 188us/step - loss: 6190.7258 - acc: 0.0000e+00\n",
      "Epoch 2/20\n",
      "8857/8857 [==============================] - 1s 100us/step - loss: 3729.0612 - acc: 0.0000e+00\n",
      "Epoch 3/20\n",
      "8857/8857 [==============================] - 1s 97us/step - loss: 2799.5858 - acc: 0.0000e+00\n",
      "Epoch 4/20\n",
      "8857/8857 [==============================] - 1s 97us/step - loss: 2130.3403 - acc: 0.0000e+00\n",
      "Epoch 5/20\n",
      "8857/8857 [==============================] - 1s 98us/step - loss: 1610.4177 - acc: 0.0000e+00\n",
      "Epoch 6/20\n",
      "8857/8857 [==============================] - 1s 100us/step - loss: 1202.5371 - acc: 0.0000e+00\n",
      "Epoch 7/20\n",
      "8857/8857 [==============================] - 1s 99us/step - loss: 884.3247 - acc: 0.0000e+00\n",
      "Epoch 8/20\n",
      "8857/8857 [==============================] - 1s 98us/step - loss: 639.2296 - acc: 0.0000e+00\n",
      "Epoch 9/20\n",
      "8857/8857 [==============================] - 1s 97us/step - loss: 453.5379 - acc: 0.0000e+00\n",
      "Epoch 10/20\n",
      "8857/8857 [==============================] - 1s 99us/step - loss: 315.9351 - acc: 0.0000e+00\n",
      "Epoch 11/20\n",
      "8857/8857 [==============================] - 1s 102us/step - loss: 216.4677 - acc: 0.0000e+00\n",
      "Epoch 12/20\n",
      "8857/8857 [==============================] - 1s 101us/step - loss: 146.5997 - acc: 1.1291e-04\n",
      "Epoch 13/20\n",
      "8857/8857 [==============================] - 1s 99us/step - loss: 99.0729 - acc: 5.6453e-04\n",
      "Epoch 14/20\n",
      "8857/8857 [==============================] - 1s 97us/step - loss: 67.8570 - acc: 0.0047\n",
      "Epoch 15/20\n",
      "8857/8857 [==============================] - 1s 97us/step - loss: 48.1337 - acc: 0.0060\n",
      "Epoch 16/20\n",
      "8857/8857 [==============================] - 1s 98us/step - loss: 36.2286 - acc: 0.0070\n",
      "Epoch 17/20\n",
      "8857/8857 [==============================] - 1s 100us/step - loss: 29.3562 - acc: 0.0065\n",
      "Epoch 18/20\n",
      "8857/8857 [==============================] - 1s 97us/step - loss: 25.5864 - acc: 0.0060\n",
      "Epoch 19/20\n",
      "8857/8857 [==============================] - 1s 99us/step - loss: 23.6411 - acc: 0.0056\n",
      "Epoch 20/20\n",
      "8857/8857 [==============================] - 1s 100us/step - loss: 22.6882 - acc: 0.0055\n"
     ]
    },
    {
     "data": {
      "text/plain": [
       "<keras.callbacks.History at 0x7f7837723d68>"
      ]
     },
     "execution_count": 76,
     "metadata": {},
     "output_type": "execute_result"
    }
   ],
   "source": [
    "model1.fit(x, y, epochs=20, batch_size=64)"
   ]
  },
  {
   "cell_type": "code",
   "execution_count": 77,
   "metadata": {},
   "outputs": [],
   "source": [
    "test_LS = model1.predict(test_X)"
   ]
  },
  {
   "cell_type": "code",
   "execution_count": 78,
   "metadata": {},
   "outputs": [
    {
     "data": {
      "text/plain": [
       "37.385643162991194"
      ]
     },
     "execution_count": 78,
     "metadata": {},
     "output_type": "execute_result"
    }
   ],
   "source": [
    "mean_squared_error(test_LS, test_y)"
   ]
  },
  {
   "cell_type": "code",
   "execution_count": 79,
   "metadata": {},
   "outputs": [
    {
     "data": {
      "image/png": "[encoded data removed]",
      "text/plain": [
       "<Figure size 432x288 with 1 Axes>"
      ]
     },
     "metadata": {
      "needs_background": "light"
     },
     "output_type": "display_data"
    }
   ],
   "source": [
    "plt.plot(test_y)\n",
    "plt.plot(test_LS, color='red')\n",
    "plt.show()"
   ]
  },
  {
   "cell_type": "code",
   "execution_count": 80,
   "metadata": {},
   "outputs": [],
   "source": [
    "values = pd.DataFrame(wl['CHOLAVARAM'].values)\n",
    "dataframe = pd.concat([values.shift(1), values], axis=1)\n",
    "dataframe.columns = ['t-1', 't+1']\n",
    "X = dataframe.values\n",
    "train, test = X[1:len(X)-300], X[len(X)-300:]\n",
    "train_X, train_y = train[:,0], train[:,1]\n",
    "test_X, test_y = test[:,0], test[:,1]"
   ]
  },
  {
   "cell_type": "code",
   "execution_count": 81,
   "metadata": {
    "scrolled": true
   },
   "outputs": [
    {
     "name": "stdout",
     "output_type": "stream",
     "text": [
      "_________________________________________________________________\n",
      "Layer (type)                 Output Shape              Param #   \n",
      "=================================================================\n",
      "embedding_4 (Embedding)      (None, None, 64)          64000     \n",
      "_________________________________________________________________\n",
      "lstm_3 (LSTM)                (None, 64)                33024     \n",
      "_________________________________________________________________\n",
      "dense_4 (Dense)              (None, 1)                 65        \n",
      "=================================================================\n",
      "Total params: 97,089\n",
      "Trainable params: 97,089\n",
      "Non-trainable params: 0\n",
      "_________________________________________________________________\n"
     ]
    }
   ],
   "source": [
    "model1 = Sequential()\n",
    "\n",
    "model1.add(layers.Embedding(input_dim=1000, output_dim=64))\n",
    "\n",
    "model1.add(layers.LSTM(64))\n",
    "\n",
    "model1.add(layers.Dense(1))\n",
    "\n",
    "model1.summary()"
   ]
  },
  {
   "cell_type": "code",
   "execution_count": 82,
   "metadata": {},
   "outputs": [],
   "source": [
    "model1.compile(loss='mae', optimizer='adam', metrics=['accuracy'])"
   ]
  },
  {
   "cell_type": "code",
   "execution_count": 83,
   "metadata": {
    "scrolled": true
   },
   "outputs": [
    {
     "name": "stdout",
     "output_type": "stream",
     "text": [
      "Epoch 1/40\n",
      "5535/5535 [==============================] - 1s 161us/step - loss: 244.0788 - acc: 0.2020\n",
      "Epoch 2/40\n",
      "5535/5535 [==============================] - 0s 52us/step - loss: 239.0950 - acc: 0.2092\n",
      "Epoch 3/40\n",
      "5535/5535 [==============================] - 0s 51us/step - loss: 228.8338 - acc: 0.2121\n",
      "Epoch 4/40\n",
      "5535/5535 [==============================] - 0s 51us/step - loss: 221.3015 - acc: 0.2136\n",
      "Epoch 5/40\n",
      "5535/5535 [==============================] - 0s 51us/step - loss: 216.2971 - acc: 0.2166\n",
      "Epoch 6/40\n",
      "5535/5535 [==============================] - 0s 48us/step - loss: 212.4158 - acc: 0.2114\n",
      "Epoch 7/40\n",
      "5535/5535 [==============================] - 0s 48us/step - loss: 208.9851 - acc: 0.2145\n",
      "Epoch 8/40\n",
      "5535/5535 [==============================] - 0s 49us/step - loss: 206.1118 - acc: 0.2101\n",
      "Epoch 9/40\n",
      "5535/5535 [==============================] - 0s 52us/step - loss: 203.4606 - acc: 0.2002\n",
      "Epoch 10/40\n",
      "5535/5535 [==============================] - 0s 51us/step - loss: 200.9215 - acc: 0.1966\n",
      "Epoch 11/40\n",
      "5535/5535 [==============================] - 0s 51us/step - loss: 198.5450 - acc: 0.2070\n",
      "Epoch 12/40\n",
      "5535/5535 [==============================] - 0s 52us/step - loss: 196.3188 - acc: 0.2110\n",
      "Epoch 13/40\n",
      "5535/5535 [==============================] - 0s 49us/step - loss: 194.1387 - acc: 0.2137\n",
      "Epoch 14/40\n",
      "5535/5535 [==============================] - 0s 51us/step - loss: 192.0397 - acc: 0.1993\n",
      "Epoch 15/40\n",
      "5535/5535 [==============================] - 0s 49us/step - loss: 190.1155 - acc: 0.2052\n",
      "Epoch 16/40\n",
      "5535/5535 [==============================] - 0s 55us/step - loss: 188.5268 - acc: 0.2235\n",
      "Epoch 17/40\n",
      "5535/5535 [==============================] - 0s 49us/step - loss: 187.2237 - acc: 0.2027\n",
      "Epoch 18/40\n",
      "5535/5535 [==============================] - 0s 50us/step - loss: 186.0323 - acc: 0.2136\n",
      "Epoch 19/40\n",
      "5535/5535 [==============================] - 0s 50us/step - loss: 184.6442 - acc: 0.2043\n",
      "Epoch 20/40\n",
      "5535/5535 [==============================] - 0s 51us/step - loss: 183.6743 - acc: 0.2163\n",
      "Epoch 21/40\n",
      "5535/5535 [==============================] - 0s 50us/step - loss: 182.4999 - acc: 0.2226\n",
      "Epoch 22/40\n",
      "5535/5535 [==============================] - 0s 50us/step - loss: 181.7422 - acc: 0.2175\n",
      "Epoch 23/40\n",
      "5535/5535 [==============================] - 0s 50us/step - loss: 180.8468 - acc: 0.2166\n",
      "Epoch 24/40\n",
      "5535/5535 [==============================] - 0s 49us/step - loss: 179.9822 - acc: 0.2154\n",
      "Epoch 25/40\n",
      "5535/5535 [==============================] - 0s 50us/step - loss: 178.9849 - acc: 0.2186\n",
      "Epoch 26/40\n",
      "5535/5535 [==============================] - 0s 51us/step - loss: 178.0189 - acc: 0.2005\n",
      "Epoch 27/40\n",
      "5535/5535 [==============================] - 0s 48us/step - loss: 177.1653 - acc: 0.2271\n",
      "Epoch 28/40\n",
      "5535/5535 [==============================] - 0s 49us/step - loss: 175.9031 - acc: 0.2278\n",
      "Epoch 29/40\n",
      "5535/5535 [==============================] - 0s 48us/step - loss: 174.3629 - acc: 0.2094\n",
      "Epoch 30/40\n",
      "5535/5535 [==============================] - 0s 52us/step - loss: 172.6739 - acc: 0.2369\n",
      "Epoch 31/40\n",
      "5535/5535 [==============================] - 0s 51us/step - loss: 171.2650 - acc: 0.2197\n",
      "Epoch 32/40\n",
      "5535/5535 [==============================] - 0s 50us/step - loss: 169.3954 - acc: 0.2363\n",
      "Epoch 33/40\n",
      "5535/5535 [==============================] - 0s 49us/step - loss: 165.7913 - acc: 0.2461\n",
      "Epoch 34/40\n",
      "5535/5535 [==============================] - 0s 55us/step - loss: 162.7820 - acc: 0.2457\n",
      "Epoch 35/40\n",
      "5535/5535 [==============================] - 0s 48us/step - loss: 160.3981 - acc: 0.2602\n",
      "Epoch 36/40\n",
      "5535/5535 [==============================] - 0s 49us/step - loss: 158.5591 - acc: 0.2631\n",
      "Epoch 37/40\n",
      "5535/5535 [==============================] - 0s 50us/step - loss: 156.6592 - acc: 0.2491\n",
      "Epoch 38/40\n",
      "5535/5535 [==============================] - 0s 49us/step - loss: 153.6611 - acc: 0.2768\n",
      "Epoch 39/40\n",
      "5535/5535 [==============================] - 0s 51us/step - loss: 151.6534 - acc: 0.2851\n",
      "Epoch 40/40\n",
      "5535/5535 [==============================] - 0s 49us/step - loss: 149.8894 - acc: 0.2491\n"
     ]
    },
    {
     "data": {
      "text/plain": [
       "<keras.callbacks.History at 0x7f77c045ab38>"
      ]
     },
     "execution_count": 83,
     "metadata": {},
     "output_type": "execute_result"
    }
   ],
   "source": [
    "model1.fit(train_X, train_y, epochs=40, batch_size=64)"
   ]
  },
  {
   "cell_type": "code",
   "execution_count": 84,
   "metadata": {},
   "outputs": [],
   "source": [
    "test_LS = model1.predict(test_X)"
   ]
  },
  {
   "cell_type": "code",
   "execution_count": 85,
   "metadata": {},
   "outputs": [
    {
     "data": {
      "text/plain": [
       "928.4893504803189"
      ]
     },
     "execution_count": 85,
     "metadata": {},
     "output_type": "execute_result"
    }
   ],
   "source": [
    "mean_squared_error(test_LS, test_y)"
   ]
  },
  {
   "cell_type": "code",
   "execution_count": 86,
   "metadata": {},
   "outputs": [
    {
     "data": {
      "image/png": "[encoded data removed]",
      "text/plain": [
       "<Figure size 432x288 with 1 Axes>"
      ]
     },
     "metadata": {
      "needs_background": "light"
     },
     "output_type": "display_data"
    }
   ],
   "source": [
    "plt.plot(test_y)\n",
    "plt.plot(test_LS, color='red')\n",
    "plt.show()"
   ]
  },
  {
   "cell_type": "code",
   "execution_count": 87,
   "metadata": {},
   "outputs": [
    {
     "data": {
      "text/plain": [
       "0      1995-01-01\n",
       "1      1995-01-02\n",
       "2      1995-01-03\n",
       "3      1995-01-04\n",
       "4      1995-01-05\n",
       "          ...    \n",
       "9153   2020-01-23\n",
       "9154   2020-01-24\n",
       "9155   2020-01-25\n",
       "9156   2020-01-26\n",
       "9157   2020-01-27\n",
       "Name: Date, Length: 9158, dtype: datetime64[ns]"
      ]
     },
     "execution_count": 87,
     "metadata": {},
     "output_type": "execute_result"
    }
   ],
   "source": [
    "df.Date"
   ]
  },
  {
   "cell_type": "code",
   "execution_count": 88,
   "metadata": {},
   "outputs": [],
   "source": [
    "rain.Date = pd.to_datetime(rain.Date)"
   ]
  },
  {
   "cell_type": "code",
   "execution_count": 89,
   "metadata": {},
   "outputs": [],
   "source": [
    "wl.Date = pd.to_datetime(wl.Date)"
   ]
  },
  {
   "cell_type": "code",
   "execution_count": 90,
   "metadata": {},
   "outputs": [
    {
     "data": {
      "text/html": [
       "<div>\n",
       "<style scoped>\n",
       "    .dataframe tbody tr th:only-of-type {\n",
       "        vertical-align: middle;\n",
       "    }\n",
       "\n",
       "    .dataframe tbody tr th {\n",
       "        vertical-align: top;\n",
       "    }\n",
       "\n",
       "    .dataframe thead th {\n",
       "        text-align: right;\n",
       "    }\n",
       "</style>\n",
       "<table border=\"1\" class=\"dataframe\">\n",
       "  <thead>\n",
       "    <tr style=\"text-align: right;\">\n",
       "      <th></th>\n",
       "      <th>Date</th>\n",
       "      <th>temperature</th>\n",
       "    </tr>\n",
       "  </thead>\n",
       "  <tbody>\n",
       "    <tr>\n",
       "      <th>3287</th>\n",
       "      <td>2004-01-01</td>\n",
       "      <td>76.9</td>\n",
       "    </tr>\n",
       "  </tbody>\n",
       "</table>\n",
       "</div>"
      ],
      "text/plain": [
       "           Date  temperature\n",
       "3287 2004-01-01         76.9"
      ]
     },
     "execution_count": 90,
     "metadata": {},
     "output_type": "execute_result"
    }
   ],
   "source": [
    "df[df.Date == '2004-01-01']"
   ]
  },
  {
   "cell_type": "code",
   "execution_count": 91,
   "metadata": {},
   "outputs": [],
   "source": [
    "TMP = df.loc[3287:]"
   ]
  },
  {
   "cell_type": "code",
   "execution_count": 92,
   "metadata": {},
   "outputs": [
    {
     "data": {
      "text/html": [
       "<div>\n",
       "<style scoped>\n",
       "    .dataframe tbody tr th:only-of-type {\n",
       "        vertical-align: middle;\n",
       "    }\n",
       "\n",
       "    .dataframe tbody tr th {\n",
       "        vertical-align: top;\n",
       "    }\n",
       "\n",
       "    .dataframe thead th {\n",
       "        text-align: right;\n",
       "    }\n",
       "</style>\n",
       "<table border=\"1\" class=\"dataframe\">\n",
       "  <thead>\n",
       "    <tr style=\"text-align: right;\">\n",
       "      <th></th>\n",
       "      <th>Date</th>\n",
       "      <th>temperature</th>\n",
       "    </tr>\n",
       "  </thead>\n",
       "  <tbody>\n",
       "    <tr>\n",
       "      <th>9122</th>\n",
       "      <td>2019-12-23</td>\n",
       "      <td>79.0</td>\n",
       "    </tr>\n",
       "  </tbody>\n",
       "</table>\n",
       "</div>"
      ],
      "text/plain": [
       "           Date  temperature\n",
       "9122 2019-12-23         79.0"
      ]
     },
     "execution_count": 92,
     "metadata": {},
     "output_type": "execute_result"
    }
   ],
   "source": [
    "TMP[TMP.Date == '2019-12-23']"
   ]
  },
  {
   "cell_type": "code",
   "execution_count": 93,
   "metadata": {},
   "outputs": [],
   "source": [
    "TMP = TMP.loc[:9122]"
   ]
  },
  {
   "cell_type": "code",
   "execution_count": 94,
   "metadata": {},
   "outputs": [
    {
     "data": {
      "text/plain": [
       "RangeIndex(start=3287, stop=9123, step=1)"
      ]
     },
     "execution_count": 94,
     "metadata": {},
     "output_type": "execute_result"
    }
   ],
   "source": [
    "TMP.index"
   ]
  },
  {
   "cell_type": "code",
   "execution_count": 95,
   "metadata": {},
   "outputs": [
    {
     "data": {
      "text/plain": [
       "pandas.core.indexes.range.RangeIndex"
      ]
     },
     "execution_count": 95,
     "metadata": {},
     "output_type": "execute_result"
    }
   ],
   "source": [
    "pd.RangeIndex"
   ]
  },
  {
   "cell_type": "code",
   "execution_count": 96,
   "metadata": {},
   "outputs": [
    {
     "data": {
      "text/plain": [
       "(5836, 2)"
      ]
     },
     "execution_count": 96,
     "metadata": {},
     "output_type": "execute_result"
    }
   ],
   "source": [
    "TMP.shape"
   ]
  },
  {
   "cell_type": "code",
   "execution_count": 97,
   "metadata": {},
   "outputs": [],
   "source": [
    "TMP.index = TMP.Date"
   ]
  },
  {
   "cell_type": "code",
   "execution_count": 98,
   "metadata": {
    "scrolled": true
   },
   "outputs": [],
   "source": [
    "TMP.drop(['Date'], axis=1, inplace=True)"
   ]
  },
  {
   "cell_type": "code",
   "execution_count": 99,
   "metadata": {},
   "outputs": [],
   "source": [
    "rain = rain.set_index('Date')"
   ]
  },
  {
   "cell_type": "code",
   "execution_count": 100,
   "metadata": {},
   "outputs": [],
   "source": [
    "wl = wl.set_index('Date')"
   ]
  },
  {
   "cell_type": "code",
   "execution_count": 101,
   "metadata": {},
   "outputs": [],
   "source": [
    "train_REDHILLS = pd.concat((TMP, rain['REDHILLS'], wl['REDHILLS']), axis=1)"
   ]
  },
  {
   "cell_type": "code",
   "execution_count": 102,
   "metadata": {},
   "outputs": [
    {
     "data": {
      "text/html": [
       "<div>\n",
       "<style scoped>\n",
       "    .dataframe tbody tr th:only-of-type {\n",
       "        vertical-align: middle;\n",
       "    }\n",
       "\n",
       "    .dataframe tbody tr th {\n",
       "        vertical-align: top;\n",
       "    }\n",
       "\n",
       "    .dataframe thead th {\n",
       "        text-align: right;\n",
       "    }\n",
       "</style>\n",
       "<table border=\"1\" class=\"dataframe\">\n",
       "  <thead>\n",
       "    <tr style=\"text-align: right;\">\n",
       "      <th></th>\n",
       "      <th>temperature</th>\n",
       "      <th>REDHILLS</th>\n",
       "      <th>REDHILLS</th>\n",
       "    </tr>\n",
       "    <tr>\n",
       "      <th>Date</th>\n",
       "      <th></th>\n",
       "      <th></th>\n",
       "      <th></th>\n",
       "    </tr>\n",
       "  </thead>\n",
       "  <tbody>\n",
       "    <tr>\n",
       "      <th>2004-01-01</th>\n",
       "      <td>76.9</td>\n",
       "      <td>0.0</td>\n",
       "      <td>268.0</td>\n",
       "    </tr>\n",
       "    <tr>\n",
       "      <th>2004-01-02</th>\n",
       "      <td>75.1</td>\n",
       "      <td>0.0</td>\n",
       "      <td>220.0</td>\n",
       "    </tr>\n",
       "    <tr>\n",
       "      <th>2004-01-03</th>\n",
       "      <td>74.3</td>\n",
       "      <td>0.0</td>\n",
       "      <td>153.0</td>\n",
       "    </tr>\n",
       "    <tr>\n",
       "      <th>2004-01-04</th>\n",
       "      <td>75.6</td>\n",
       "      <td>0.0</td>\n",
       "      <td>190.0</td>\n",
       "    </tr>\n",
       "    <tr>\n",
       "      <th>2004-01-05</th>\n",
       "      <td>76.3</td>\n",
       "      <td>0.0</td>\n",
       "      <td>151.3</td>\n",
       "    </tr>\n",
       "  </tbody>\n",
       "</table>\n",
       "</div>"
      ],
      "text/plain": [
       "            temperature  REDHILLS  REDHILLS\n",
       "Date                                       \n",
       "2004-01-01         76.9       0.0     268.0\n",
       "2004-01-02         75.1       0.0     220.0\n",
       "2004-01-03         74.3       0.0     153.0\n",
       "2004-01-04         75.6       0.0     190.0\n",
       "2004-01-05         76.3       0.0     151.3"
      ]
     },
     "execution_count": 102,
     "metadata": {},
     "output_type": "execute_result"
    }
   ],
   "source": [
    "train_REDHILLS.head()"
   ]
  },
  {
   "cell_type": "code",
   "execution_count": 103,
   "metadata": {},
   "outputs": [],
   "source": [
    "column_names=['temperature', 'rainfall', 'water level']"
   ]
  },
  {
   "cell_type": "code",
   "execution_count": 104,
   "metadata": {},
   "outputs": [],
   "source": [
    "train_REDHILLS.columns = column_names"
   ]
  },
  {
   "cell_type": "code",
   "execution_count": 105,
   "metadata": {},
   "outputs": [
    {
     "data": {
      "text/html": [
       "<div>\n",
       "<style scoped>\n",
       "    .dataframe tbody tr th:only-of-type {\n",
       "        vertical-align: middle;\n",
       "    }\n",
       "\n",
       "    .dataframe tbody tr th {\n",
       "        vertical-align: top;\n",
       "    }\n",
       "\n",
       "    .dataframe thead th {\n",
       "        text-align: right;\n",
       "    }\n",
       "</style>\n",
       "<table border=\"1\" class=\"dataframe\">\n",
       "  <thead>\n",
       "    <tr style=\"text-align: right;\">\n",
       "      <th></th>\n",
       "      <th>temperature</th>\n",
       "      <th>rainfall</th>\n",
       "      <th>water level</th>\n",
       "    </tr>\n",
       "    <tr>\n",
       "      <th>Date</th>\n",
       "      <th></th>\n",
       "      <th></th>\n",
       "      <th></th>\n",
       "    </tr>\n",
       "  </thead>\n",
       "  <tbody>\n",
       "    <tr>\n",
       "      <th>2004-01-01</th>\n",
       "      <td>76.9</td>\n",
       "      <td>0.0</td>\n",
       "      <td>268.0</td>\n",
       "    </tr>\n",
       "    <tr>\n",
       "      <th>2004-01-02</th>\n",
       "      <td>75.1</td>\n",
       "      <td>0.0</td>\n",
       "      <td>220.0</td>\n",
       "    </tr>\n",
       "    <tr>\n",
       "      <th>2004-01-03</th>\n",
       "      <td>74.3</td>\n",
       "      <td>0.0</td>\n",
       "      <td>153.0</td>\n",
       "    </tr>\n",
       "    <tr>\n",
       "      <th>2004-01-04</th>\n",
       "      <td>75.6</td>\n",
       "      <td>0.0</td>\n",
       "      <td>190.0</td>\n",
       "    </tr>\n",
       "    <tr>\n",
       "      <th>2004-01-05</th>\n",
       "      <td>76.3</td>\n",
       "      <td>0.0</td>\n",
       "      <td>151.3</td>\n",
       "    </tr>\n",
       "  </tbody>\n",
       "</table>\n",
       "</div>"
      ],
      "text/plain": [
       "            temperature  rainfall  water level\n",
       "Date                                          \n",
       "2004-01-01         76.9       0.0        268.0\n",
       "2004-01-02         75.1       0.0        220.0\n",
       "2004-01-03         74.3       0.0        153.0\n",
       "2004-01-04         75.6       0.0        190.0\n",
       "2004-01-05         76.3       0.0        151.3"
      ]
     },
     "execution_count": 105,
     "metadata": {},
     "output_type": "execute_result"
    }
   ],
   "source": [
    "train_REDHILLS.head()"
   ]
  },
  {
   "cell_type": "code",
   "execution_count": 106,
   "metadata": {},
   "outputs": [
    {
     "data": {
      "text/html": [
       "<div>\n",
       "<style scoped>\n",
       "    .dataframe tbody tr th:only-of-type {\n",
       "        vertical-align: middle;\n",
       "    }\n",
       "\n",
       "    .dataframe tbody tr th {\n",
       "        vertical-align: top;\n",
       "    }\n",
       "\n",
       "    .dataframe thead th {\n",
       "        text-align: right;\n",
       "    }\n",
       "</style>\n",
       "<table border=\"1\" class=\"dataframe\">\n",
       "  <thead>\n",
       "    <tr style=\"text-align: right;\">\n",
       "      <th></th>\n",
       "      <th>temperature</th>\n",
       "      <th>rainfall</th>\n",
       "      <th>water level</th>\n",
       "    </tr>\n",
       "    <tr>\n",
       "      <th>Date</th>\n",
       "      <th></th>\n",
       "      <th></th>\n",
       "      <th></th>\n",
       "    </tr>\n",
       "  </thead>\n",
       "  <tbody>\n",
       "    <tr>\n",
       "      <th>2004-01-01</th>\n",
       "      <td>76.9</td>\n",
       "      <td>0.0</td>\n",
       "      <td>268.0</td>\n",
       "    </tr>\n",
       "    <tr>\n",
       "      <th>2004-01-02</th>\n",
       "      <td>75.1</td>\n",
       "      <td>0.0</td>\n",
       "      <td>220.0</td>\n",
       "    </tr>\n",
       "    <tr>\n",
       "      <th>2004-01-03</th>\n",
       "      <td>74.3</td>\n",
       "      <td>0.0</td>\n",
       "      <td>153.0</td>\n",
       "    </tr>\n",
       "    <tr>\n",
       "      <th>2004-01-04</th>\n",
       "      <td>75.6</td>\n",
       "      <td>0.0</td>\n",
       "      <td>190.0</td>\n",
       "    </tr>\n",
       "    <tr>\n",
       "      <th>2004-01-05</th>\n",
       "      <td>76.3</td>\n",
       "      <td>0.0</td>\n",
       "      <td>151.3</td>\n",
       "    </tr>\n",
       "  </tbody>\n",
       "</table>\n",
       "</div>"
      ],
      "text/plain": [
       "            temperature  rainfall  water level\n",
       "Date                                          \n",
       "2004-01-01         76.9       0.0        268.0\n",
       "2004-01-02         75.1       0.0        220.0\n",
       "2004-01-03         74.3       0.0        153.0\n",
       "2004-01-04         75.6       0.0        190.0\n",
       "2004-01-05         76.3       0.0        151.3"
      ]
     },
     "execution_count": 106,
     "metadata": {},
     "output_type": "execute_result"
    }
   ],
   "source": [
    "train_REDHILLS.head()"
   ]
  },
  {
   "cell_type": "code",
   "execution_count": 107,
   "metadata": {},
   "outputs": [],
   "source": [
    "def create_sequences(x, interval):\n",
    "    input_seq = []\n",
    "    l = len(x)\n",
    "    for i in range(l-interval):\n",
    "        train_seq = x[i:i+interval]\n",
    "        train_label = x[i+interval]\n",
    "        input_seq.append((train_seq, train_label))\n",
    "    return input_seq"
   ]
  },
  {
   "cell_type": "code",
   "execution_count": 108,
   "metadata": {},
   "outputs": [
    {
     "data": {
      "text/plain": [
       "(23344,)"
      ]
     },
     "execution_count": 108,
     "metadata": {},
     "output_type": "execute_result"
    }
   ],
   "source": [
    "np.append(X, X).shape"
   ]
  },
  {
   "cell_type": "code",
   "execution_count": 109,
   "metadata": {},
   "outputs": [],
   "source": [
    "def create_sequences(x, interval):\n",
    "    input_seq = []\n",
    "    output_seq = [] \n",
    "    l = len(x)\n",
    "    for i in range(l-interval):\n",
    "        train_seq = x[i:i+interval]\n",
    "        train_label = x[i+interval][-1]\n",
    "        input_seq.append(train_seq)\n",
    "        output_seq.append(train_label)\n",
    "    return np.array(input_seq), np.array(output_seq)"
   ]
  },
  {
   "cell_type": "code",
   "execution_count": 110,
   "metadata": {
    "scrolled": true
   },
   "outputs": [],
   "source": [
    "REDHILLS_seq = create_sequences(np.array(train_REDHILLS.values), 14)"
   ]
  },
  {
   "cell_type": "code",
   "execution_count": 111,
   "metadata": {},
   "outputs": [],
   "source": [
    "X, y = REDHILLS_seq"
   ]
  },
  {
   "cell_type": "code",
   "execution_count": 112,
   "metadata": {
    "scrolled": true
   },
   "outputs": [
    {
     "data": {
      "text/plain": [
       "(5822, 14, 3)"
      ]
     },
     "execution_count": 112,
     "metadata": {},
     "output_type": "execute_result"
    }
   ],
   "source": [
    "X.shape"
   ]
  },
  {
   "cell_type": "code",
   "execution_count": 113,
   "metadata": {},
   "outputs": [],
   "source": [
    "y = y.reshape(y.shape[0], 1)"
   ]
  },
  {
   "cell_type": "code",
   "execution_count": 114,
   "metadata": {},
   "outputs": [],
   "source": [
    "# from sklearn.preprocessing import MinMaxScaler"
   ]
  },
  {
   "cell_type": "code",
   "execution_count": 115,
   "metadata": {},
   "outputs": [],
   "source": [
    "# scaler = MinMaxScaler(feature_range=(-1, 1))\n",
    "# train_data.temperature = scaler.fit_transform(train_data.temperature.values.reshape(-1,1))"
   ]
  },
  {
   "cell_type": "code",
   "execution_count": 116,
   "metadata": {
    "scrolled": true
   },
   "outputs": [],
   "source": [
    "train_X, test_X = X[:len(X)-300], X[len(X)-300:]\n",
    "train_y, test_y = y[:len(X)-300], y[len(X)-300:]"
   ]
  },
  {
   "cell_type": "code",
   "execution_count": 117,
   "metadata": {},
   "outputs": [
    {
     "data": {
      "text/plain": [
       "(5535, 2)"
      ]
     },
     "execution_count": 117,
     "metadata": {},
     "output_type": "execute_result"
    }
   ],
   "source": [
    "train.shape"
   ]
  },
  {
   "cell_type": "code",
   "execution_count": 119,
   "metadata": {},
   "outputs": [],
   "source": [
    "model1 = Sequential()\n",
    "# model1.add(layers.LSTM(64, input_shape=(14, 3)))\n",
    "model1.add(layers.Bidirectional(layers.LSTM(128, input_shape=(14, 3))))\n",
    "model1.add(layers.Dense(1))"
   ]
  },
  {
   "cell_type": "code",
   "execution_count": null,
   "metadata": {
    "scrolled": true
   },
   "outputs": [],
   "source": []
  },
  {
   "cell_type": "code",
   "execution_count": 120,
   "metadata": {},
   "outputs": [],
   "source": [
    "model1.compile(loss='mae', optimizer='adam', metrics=['accuracy'])"
   ]
  },
  {
   "cell_type": "code",
   "execution_count": 121,
   "metadata": {
    "scrolled": true
   },
   "outputs": [],
   "source": [
    "# train_X.shape"
   ]
  },
  {
   "cell_type": "code",
   "execution_count": 122,
   "metadata": {},
   "outputs": [],
   "source": [
    "# train_X.shape"
   ]
  },
  {
   "cell_type": "code",
   "execution_count": 123,
   "metadata": {
    "scrolled": true
   },
   "outputs": [],
   "source": [
    "# train_X_r = train_X.reshape(5521, 14)"
   ]
  },
  {
   "cell_type": "code",
   "execution_count": 124,
   "metadata": {},
   "outputs": [
    {
     "data": {
      "text/plain": [
       "(5522, 1)"
      ]
     },
     "execution_count": 124,
     "metadata": {},
     "output_type": "execute_result"
    }
   ],
   "source": [
    "train_y.shape"
   ]
  },
  {
   "cell_type": "code",
   "execution_count": 125,
   "metadata": {},
   "outputs": [
    {
     "data": {
      "text/plain": [
       "(5522, 14, 3)"
      ]
     },
     "execution_count": 125,
     "metadata": {},
     "output_type": "execute_result"
    }
   ],
   "source": [
    "train_X.shape"
   ]
  },
  {
   "cell_type": "code",
   "execution_count": 126,
   "metadata": {
    "scrolled": false
   },
   "outputs": [
    {
     "name": "stdout",
     "output_type": "stream",
     "text": [
      "Epoch 1/100\n",
      "5522/5522 [==============================] - 3s 525us/step - loss: 1590.9992 - acc: 0.0013\n",
      "Epoch 2/100\n",
      "5522/5522 [==============================] - 2s 345us/step - loss: 1573.7149 - acc: 7.2438e-04\n",
      "Epoch 3/100\n",
      "5522/5522 [==============================] - 2s 352us/step - loss: 1558.2413 - acc: 0.0024\n",
      "Epoch 4/100\n",
      "5522/5522 [==============================] - 2s 362us/step - loss: 1544.2212 - acc: 0.0020\n",
      "Epoch 5/100\n",
      "5522/5522 [==============================] - 2s 366us/step - loss: 1531.0461 - acc: 0.0024\n",
      "Epoch 6/100\n",
      "5522/5522 [==============================] - 2s 368us/step - loss: 1518.3948 - acc: 0.0020\n",
      "Epoch 7/100\n",
      "5522/5522 [==============================] - 2s 383us/step - loss: 1505.7023 - acc: 0.0027\n",
      "Epoch 8/100\n",
      "5522/5522 [==============================] - 2s 365us/step - loss: 1493.3355 - acc: 0.0031\n",
      "Epoch 9/100\n",
      "5522/5522 [==============================] - 2s 372us/step - loss: 1481.4092 - acc: 0.0029\n",
      "Epoch 10/100\n",
      "5522/5522 [==============================] - 2s 376us/step - loss: 1469.3752 - acc: 0.0020\n",
      "Epoch 11/100\n",
      "5522/5522 [==============================] - 2s 386us/step - loss: 1457.6131 - acc: 0.0045\n",
      "Epoch 12/100\n",
      "5522/5522 [==============================] - 2s 397us/step - loss: 1445.8470 - acc: 0.0033\n",
      "Epoch 13/100\n",
      "5522/5522 [==============================] - 2s 362us/step - loss: 1435.2437 - acc: 0.0040\n",
      "Epoch 14/100\n",
      "5522/5522 [==============================] - 2s 353us/step - loss: 1424.4108 - acc: 0.0058\n",
      "Epoch 15/100\n",
      "5522/5522 [==============================] - 2s 355us/step - loss: 1413.0783 - acc: 0.0042\n",
      "Epoch 16/100\n",
      "5522/5522 [==============================] - 2s 359us/step - loss: 1401.6731 - acc: 0.0031\n",
      "Epoch 17/100\n",
      "5522/5522 [==============================] - 2s 374us/step - loss: 1390.2850 - acc: 0.0024\n",
      "Epoch 18/100\n",
      "5522/5522 [==============================] - 2s 382us/step - loss: 1379.0229 - acc: 0.0038\n",
      "Epoch 19/100\n",
      "5522/5522 [==============================] - 2s 357us/step - loss: 1367.8356 - acc: 0.0025\n",
      "Epoch 20/100\n",
      "5522/5522 [==============================] - 2s 359us/step - loss: 1356.7500 - acc: 0.0047\n",
      "Epoch 21/100\n",
      "5522/5522 [==============================] - 2s 357us/step - loss: 1345.8010 - acc: 0.0020\n",
      "Epoch 22/100\n",
      "5522/5522 [==============================] - 2s 359us/step - loss: 1334.6637 - acc: 0.0016\n",
      "Epoch 23/100\n",
      "5522/5522 [==============================] - 2s 370us/step - loss: 1323.4180 - acc: 0.0045\n",
      "Epoch 24/100\n",
      "5522/5522 [==============================] - 2s 354us/step - loss: 1312.5230 - acc: 0.0043\n",
      "Epoch 25/100\n",
      "5522/5522 [==============================] - 2s 356us/step - loss: 1301.6856 - acc: 0.0029\n",
      "Epoch 26/100\n",
      "5522/5522 [==============================] - 2s 351us/step - loss: 1290.6651 - acc: 0.0036\n",
      "Epoch 27/100\n",
      "5522/5522 [==============================] - 2s 388us/step - loss: 1280.0832 - acc: 0.0024\n",
      "Epoch 28/100\n",
      "5522/5522 [==============================] - 2s 362us/step - loss: 1269.4551 - acc: 0.0053\n",
      "Epoch 29/100\n",
      "5522/5522 [==============================] - 2s 361us/step - loss: 1259.0839 - acc: 0.0042\n",
      "Epoch 30/100\n",
      "5522/5522 [==============================] - 2s 364us/step - loss: 1248.7316 - acc: 0.0040\n",
      "Epoch 31/100\n",
      "5522/5522 [==============================] - 2s 355us/step - loss: 1238.3841 - acc: 0.0049\n",
      "Epoch 32/100\n",
      "5522/5522 [==============================] - 2s 364us/step - loss: 1228.1727 - acc: 0.0067\n",
      "Epoch 33/100\n",
      "5522/5522 [==============================] - 2s 355us/step - loss: 1218.1723 - acc: 0.0045\n",
      "Epoch 34/100\n",
      "5522/5522 [==============================] - 2s 355us/step - loss: 1207.9429 - acc: 0.0043\n",
      "Epoch 35/100\n",
      "5522/5522 [==============================] - 2s 366us/step - loss: 1197.9874 - acc: 0.0040\n",
      "Epoch 36/100\n",
      "5522/5522 [==============================] - 2s 372us/step - loss: 1188.1389 - acc: 0.0025\n",
      "Epoch 37/100\n",
      "5522/5522 [==============================] - 2s 358us/step - loss: 1178.1833 - acc: 0.0024\n",
      "Epoch 38/100\n",
      "5522/5522 [==============================] - 2s 365us/step - loss: 1168.2967 - acc: 0.0033\n",
      "Epoch 39/100\n",
      "5522/5522 [==============================] - 2s 362us/step - loss: 1158.2534 - acc: 0.0038\n",
      "Epoch 40/100\n",
      "5522/5522 [==============================] - 2s 363us/step - loss: 1148.6432 - acc: 0.0031\n",
      "Epoch 41/100\n",
      "5522/5522 [==============================] - 2s 393us/step - loss: 1138.6671 - acc: 0.0034\n",
      "Epoch 42/100\n",
      "5522/5522 [==============================] - 2s 364us/step - loss: 1128.9830 - acc: 0.0049\n",
      "Epoch 43/100\n",
      "5522/5522 [==============================] - 2s 378us/step - loss: 1119.0700 - acc: 0.0020\n",
      "Epoch 44/100\n",
      "5522/5522 [==============================] - 2s 381us/step - loss: 1109.3415 - acc: 0.0011\n",
      "Epoch 45/100\n",
      "5522/5522 [==============================] - 2s 396us/step - loss: 1099.9146 - acc: 0.0016\n",
      "Epoch 46/100\n",
      "5522/5522 [==============================] - 2s 397us/step - loss: 1090.3736 - acc: 0.0020\n",
      "Epoch 47/100\n",
      "5522/5522 [==============================] - 2s 374us/step - loss: 1080.6660 - acc: 0.0020\n",
      "Epoch 48/100\n",
      "5522/5522 [==============================] - 2s 375us/step - loss: 1071.1500 - acc: 0.0042\n",
      "Epoch 49/100\n",
      "5522/5522 [==============================] - 2s 367us/step - loss: 1061.7776 - acc: 0.0027\n",
      "Epoch 50/100\n",
      "5522/5522 [==============================] - 2s 366us/step - loss: 1052.4680 - acc: 0.0025\n",
      "Epoch 51/100\n",
      "5522/5522 [==============================] - 2s 384us/step - loss: 1042.8234 - acc: 0.0027\n",
      "Epoch 52/100\n",
      "5522/5522 [==============================] - 2s 385us/step - loss: 1033.5942 - acc: 0.0031\n",
      "Epoch 53/100\n",
      "5522/5522 [==============================] - 2s 440us/step - loss: 1023.9139 - acc: 0.0025\n",
      "Epoch 54/100\n",
      "5522/5522 [==============================] - 2s 404us/step - loss: 1014.5403 - acc: 0.0031\n",
      "Epoch 55/100\n",
      "5522/5522 [==============================] - 2s 377us/step - loss: 1005.2720 - acc: 0.0038\n",
      "Epoch 56/100\n",
      "5522/5522 [==============================] - 2s 375us/step - loss: 995.6433 - acc: 0.0033\n",
      "Epoch 57/100\n",
      "5522/5522 [==============================] - 2s 401us/step - loss: 986.4222 - acc: 0.0040\n",
      "Epoch 58/100\n",
      "5522/5522 [==============================] - 2s 392us/step - loss: 977.3777 - acc: 0.0024\n",
      "Epoch 59/100\n",
      "5522/5522 [==============================] - 2s 372us/step - loss: 968.0859 - acc: 0.0034\n",
      "Epoch 60/100\n",
      "5522/5522 [==============================] - 2s 383us/step - loss: 958.9020 - acc: 0.0025\n",
      "Epoch 61/100\n",
      "5522/5522 [==============================] - 2s 381us/step - loss: 949.7866 - acc: 0.0027\n",
      "Epoch 62/100\n",
      "5522/5522 [==============================] - 2s 379us/step - loss: 940.5176 - acc: 0.0022\n",
      "Epoch 63/100\n",
      "5522/5522 [==============================] - 2s 380us/step - loss: 931.3570 - acc: 0.0034\n",
      "Epoch 64/100\n",
      "5522/5522 [==============================] - 2s 368us/step - loss: 921.8160 - acc: 0.0016\n",
      "Epoch 65/100\n",
      "5522/5522 [==============================] - 2s 368us/step - loss: 913.5697 - acc: 0.0027\n",
      "Epoch 66/100\n",
      "5522/5522 [==============================] - 2s 384us/step - loss: 904.5805 - acc: 0.0025\n",
      "Epoch 67/100\n",
      "5522/5522 [==============================] - 2s 366us/step - loss: 895.7814 - acc: 0.0034\n",
      "Epoch 68/100\n",
      "5522/5522 [==============================] - 2s 365us/step - loss: 894.6958 - acc: 0.0033\n",
      "Epoch 69/100\n",
      "5522/5522 [==============================] - 2s 367us/step - loss: 885.7474 - acc: 0.0025\n",
      "Epoch 70/100\n",
      "5522/5522 [==============================] - 2s 371us/step - loss: 885.1499 - acc: 0.0038\n",
      "Epoch 71/100\n",
      "5522/5522 [==============================] - 2s 385us/step - loss: 876.6157 - acc: 0.0027\n",
      "Epoch 72/100\n",
      "5522/5522 [==============================] - 2s 366us/step - loss: 868.0678 - acc: 0.0038\n",
      "Epoch 73/100\n",
      "5522/5522 [==============================] - 2s 380us/step - loss: 858.9444 - acc: 0.0027\n",
      "Epoch 74/100\n",
      "5522/5522 [==============================] - 2s 367us/step - loss: 850.1043 - acc: 0.0027\n",
      "Epoch 75/100\n",
      "5522/5522 [==============================] - 2s 376us/step - loss: 845.4121 - acc: 0.0022\n",
      "Epoch 76/100\n",
      "5522/5522 [==============================] - 2s 386us/step - loss: 842.0603 - acc: 0.0031\n",
      "Epoch 77/100\n",
      "5522/5522 [==============================] - 2s 373us/step - loss: 833.4835 - acc: 0.0024\n",
      "Epoch 78/100\n",
      "5522/5522 [==============================] - 2s 398us/step - loss: 831.5088 - acc: 0.0022\n",
      "Epoch 79/100\n",
      "5522/5522 [==============================] - 2s 393us/step - loss: 825.2668 - acc: 0.0031\n",
      "Epoch 80/100\n"
     ]
    },
    {
     "name": "stdout",
     "output_type": "stream",
     "text": [
      "5522/5522 [==============================] - 2s 384us/step - loss: 817.5304 - acc: 0.0025\n",
      "Epoch 81/100\n",
      "5522/5522 [==============================] - 2s 385us/step - loss: 808.3862 - acc: 0.0020\n",
      "Epoch 82/100\n",
      "5522/5522 [==============================] - 2s 381us/step - loss: 799.2419 - acc: 0.0038\n",
      "Epoch 83/100\n",
      "5522/5522 [==============================] - 2s 373us/step - loss: 791.3115 - acc: 0.0020\n",
      "Epoch 84/100\n",
      "5522/5522 [==============================] - 2s 372us/step - loss: 782.7382 - acc: 0.0014\n",
      "Epoch 85/100\n",
      "5522/5522 [==============================] - 2s 372us/step - loss: 774.5610 - acc: 0.0022\n",
      "Epoch 86/100\n",
      "5522/5522 [==============================] - 2s 376us/step - loss: 766.0449 - acc: 0.0029\n",
      "Epoch 87/100\n",
      "5522/5522 [==============================] - 2s 369us/step - loss: 757.8227 - acc: 0.0022\n",
      "Epoch 88/100\n",
      "5522/5522 [==============================] - 2s 370us/step - loss: 750.4195 - acc: 0.0014\n",
      "Epoch 89/100\n",
      "5522/5522 [==============================] - 2s 400us/step - loss: 742.8475 - acc: 0.0027\n",
      "Epoch 90/100\n",
      "5522/5522 [==============================] - 2s 371us/step - loss: 733.4170 - acc: 0.0043\n",
      "Epoch 91/100\n",
      "5522/5522 [==============================] - 2s 364us/step - loss: 725.4997 - acc: 0.0022\n",
      "Epoch 92/100\n",
      "5522/5522 [==============================] - 2s 375us/step - loss: 717.2785 - acc: 0.0036\n",
      "Epoch 93/100\n",
      "5522/5522 [==============================] - 2s 378us/step - loss: 709.6020 - acc: 0.0038\n",
      "Epoch 94/100\n",
      "5522/5522 [==============================] - 2s 390us/step - loss: 702.2561 - acc: 0.0016\n",
      "Epoch 95/100\n",
      "5522/5522 [==============================] - 2s 385us/step - loss: 692.8498 - acc: 0.0024\n",
      "Epoch 96/100\n",
      "5522/5522 [==============================] - 2s 389us/step - loss: 685.6424 - acc: 0.0024\n",
      "Epoch 97/100\n",
      "5522/5522 [==============================] - 2s 383us/step - loss: 678.8844 - acc: 0.0034\n",
      "Epoch 98/100\n",
      "5522/5522 [==============================] - 2s 376us/step - loss: 670.3789 - acc: 0.0025\n",
      "Epoch 99/100\n",
      "5522/5522 [==============================] - 2s 385us/step - loss: 663.0054 - acc: 0.0036\n",
      "Epoch 100/100\n",
      "5522/5522 [==============================] - 2s 368us/step - loss: 655.7270 - acc: 0.0027\n"
     ]
    },
    {
     "data": {
      "text/plain": [
       "<keras.callbacks.History at 0x7f779b2b2898>"
      ]
     },
     "execution_count": 126,
     "metadata": {},
     "output_type": "execute_result"
    }
   ],
   "source": [
    "model1.fit(train_X, train_y, epochs=100, batch_size=64)"
   ]
  },
  {
   "cell_type": "code",
   "execution_count": 127,
   "metadata": {},
   "outputs": [],
   "source": [
    "test_LS = model1.predict(test_X)"
   ]
  },
  {
   "cell_type": "code",
   "execution_count": 128,
   "metadata": {},
   "outputs": [
    {
     "data": {
      "text/plain": [
       "(300, 1)"
      ]
     },
     "execution_count": 128,
     "metadata": {},
     "output_type": "execute_result"
    }
   ],
   "source": [
    "test_y.shape"
   ]
  },
  {
   "cell_type": "code",
   "execution_count": 129,
   "metadata": {
    "scrolled": true
   },
   "outputs": [
    {
     "data": {
      "text/plain": [
       "180381.91421507456"
      ]
     },
     "execution_count": 129,
     "metadata": {},
     "output_type": "execute_result"
    }
   ],
   "source": [
    "mean_squared_error(test_LS, test_y)"
   ]
  },
  {
   "cell_type": "code",
   "execution_count": 130,
   "metadata": {},
   "outputs": [
    {
     "data": {
      "image/png": "[encoded data removed]",
      "text/plain": [
       "<Figure size 432x288 with 1 Axes>"
      ]
     },
     "metadata": {
      "needs_background": "light"
     },
     "output_type": "display_data"
    }
   ],
   "source": [
    "plt.plot(test_y[:60])\n",
    "plt.plot(test_LS[:60], color='red')\n",
    "plt.show()"
   ]
  },
  {
   "cell_type": "code",
   "execution_count": 166,
   "metadata": {},
   "outputs": [],
   "source": [
    "import datetime"
   ]
  },
  {
   "cell_type": "code",
   "execution_count": 133,
   "metadata": {},
   "outputs": [],
   "source": [
    "def LSTM_model():\n",
    "    model = Sequential()\n",
    "    model.add(layers.LSTM(128, input_shape=(14, 3), return_sequences=True))\n",
    "    model.add(Dropout(0.2))\n",
    "    model.add(LSTM(64))\n",
    "    model.add(Dropout(0.3))\n",
    "    model.add(Dense(3)) # size of output features\n",
    "    model.compile(optimizer='Adam',loss='mae',metrics=['accuracy'])\n",
    "    return model"
   ]
  },
  {
   "cell_type": "code",
   "execution_count": 134,
   "metadata": {},
   "outputs": [],
   "source": [
    "def create_sequences_full(x, interval):\n",
    "    input_seq = []\n",
    "    output_seq = [] \n",
    "    l = len(x)\n",
    "    for i in range(l-interval):\n",
    "        train_seq = x[i:i+interval]\n",
    "        train_label = x[i+interval]\n",
    "        input_seq.append(train_seq)\n",
    "        output_seq.append(train_label)\n",
    "    return np.array(input_seq), np.array(output_seq)"
   ]
  },
  {
   "cell_type": "code",
   "execution_count": 149,
   "metadata": {},
   "outputs": [],
   "source": [
    "# model.fit(train_X, train_y)\n",
    "results = []\n",
    "last = test_X[-1]\n",
    "for i in range(30):\n",
    "    y_pred = model1.predict(last.reshape(1, 14, 3))\n",
    "    last = np.vstack((last[1:], y_pred)    \n",
    "    results.append(y_pred[-1])"
   ]
  },
  {
   "cell_type": "code",
   "execution_count": 179,
   "metadata": {},
   "outputs": [],
   "source": [
    "base = rain.index[-1]\n",
    "date_list = [base - datetime.timedelta(days=x) for x in range(30)]\n",
    "\n",
    "rf = pd.DataFrame({'Date':date_list, 'result':results})\n",
    "rf.columns = ['Date', 'REDHILLS']\n"
   ]
  },
  {
   "cell_type": "code",
   "execution_count": 131,
   "metadata": {
    "scrolled": true
   },
   "outputs": [
    {
     "data": {
      "text/plain": [
       "<matplotlib.axes._subplots.AxesSubplot at 0x7f79ce81a860>"
      ]
     },
     "execution_count": 131,
     "metadata": {},
     "output_type": "execute_result"
    },
    {
     "data": {
      "image/png": "[encoded data removed]",
      "text/plain": [
       "<Figure size 432x288 with 1 Axes>"
      ]
     },
     "metadata": {
      "needs_background": "light"
     },
     "output_type": "display_data"
    }
   ],
   "source": [
    "rf.plot(x='Date', y='CHOLAVARAM')"
   ]
  },
  {
   "cell_type": "code",
   "execution_count": 180,
   "metadata": {
    "scrolled": false
   },
   "outputs": [],
   "source": []
  },
  {
   "cell_type": "code",
   "execution_count": null,
   "metadata": {},
   "outputs": [],
   "source": []
  }
 ],
 "metadata": {
  "kernelspec": {
   "display_name": "Python 3",
   "language": "python",
   "name": "python3"
  },
  "language_info": {
   "codemirror_mode": {
    "name": "ipython",
    "version": 3
   },
   "file_extension": ".py",
   "mimetype": "text/x-python",
   "name": "python",
   "nbconvert_exporter": "python",
   "pygments_lexer": "ipython3",
   "version": "3.6.7"
  }
 },
 "nbformat": 4,
 "nbformat_minor": 2
}
