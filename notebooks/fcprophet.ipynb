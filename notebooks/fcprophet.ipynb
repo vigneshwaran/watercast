{
 "cells": [
  {
   "cell_type": "code",
   "execution_count": 1,
   "metadata": {},
   "outputs": [],
   "source": [
    "import pandas as pd\n",
    "from fbprophet import Prophet"
   ]
  },
  {
   "cell_type": "code",
   "execution_count": 2,
   "metadata": {},
   "outputs": [
    {
     "name": "stdout",
     "output_type": "stream",
     "text": [
      "chennai_reservoir_levels.csv    fcprophet.ipynb            temp.ipynb\r\n",
      "chennai_reservoir_rainfall.csv  model.h5                   temp.pdf\r\n",
      "EDA.ipynb                       processed-temperature.csv\r\n",
      "EDA.pdf                         README.md\r\n"
     ]
    }
   ],
   "source": [
    "ls"
   ]
  },
  {
   "cell_type": "code",
   "execution_count": 2,
   "metadata": {},
   "outputs": [],
   "source": [
    "df = pd.read_csv('processed-temperature.csv',  usecols = ['Date', 'temperature'])"
   ]
  },
  {
   "cell_type": "code",
   "execution_count": 3,
   "metadata": {},
   "outputs": [],
   "source": [
    "# pd.read_csv?"
   ]
  },
  {
   "cell_type": "code",
   "execution_count": 4,
   "metadata": {},
   "outputs": [],
   "source": [
    "df.columns = ['ds', 'y']"
   ]
  },
  {
   "cell_type": "code",
   "execution_count": 5,
   "metadata": {
    "scrolled": false
   },
   "outputs": [
    {
     "data": {
      "text/html": [
       "<div>\n",
       "<style scoped>\n",
       "    .dataframe tbody tr th:only-of-type {\n",
       "        vertical-align: middle;\n",
       "    }\n",
       "\n",
       "    .dataframe tbody tr th {\n",
       "        vertical-align: top;\n",
       "    }\n",
       "\n",
       "    .dataframe thead th {\n",
       "        text-align: right;\n",
       "    }\n",
       "</style>\n",
       "<table border=\"1\" class=\"dataframe\">\n",
       "  <thead>\n",
       "    <tr style=\"text-align: right;\">\n",
       "      <th></th>\n",
       "      <th>ds</th>\n",
       "      <th>y</th>\n",
       "    </tr>\n",
       "  </thead>\n",
       "  <tbody>\n",
       "    <tr>\n",
       "      <th>0</th>\n",
       "      <td>1995-01-01</td>\n",
       "      <td>72.4</td>\n",
       "    </tr>\n",
       "    <tr>\n",
       "      <th>1</th>\n",
       "      <td>1995-01-02</td>\n",
       "      <td>73.5</td>\n",
       "    </tr>\n",
       "    <tr>\n",
       "      <th>2</th>\n",
       "      <td>1995-01-03</td>\n",
       "      <td>72.6</td>\n",
       "    </tr>\n",
       "    <tr>\n",
       "      <th>3</th>\n",
       "      <td>1995-01-04</td>\n",
       "      <td>75.2</td>\n",
       "    </tr>\n",
       "    <tr>\n",
       "      <th>4</th>\n",
       "      <td>1995-01-05</td>\n",
       "      <td>74.8</td>\n",
       "    </tr>\n",
       "  </tbody>\n",
       "</table>\n",
       "</div>"
      ],
      "text/plain": [
       "           ds     y\n",
       "0  1995-01-01  72.4\n",
       "1  1995-01-02  73.5\n",
       "2  1995-01-03  72.6\n",
       "3  1995-01-04  75.2\n",
       "4  1995-01-05  74.8"
      ]
     },
     "execution_count": 5,
     "metadata": {},
     "output_type": "execute_result"
    }
   ],
   "source": [
    "df.head()"
   ]
  },
  {
   "cell_type": "code",
   "execution_count": 6,
   "metadata": {},
   "outputs": [
    {
     "name": "stderr",
     "output_type": "stream",
     "text": [
      "INFO:fbprophet:Disabling daily seasonality. Run prophet with daily_seasonality=True to override this.\n"
     ]
    },
    {
     "data": {
      "text/plain": [
       "<fbprophet.forecaster.Prophet at 0x7f79e5001400>"
      ]
     },
     "execution_count": 6,
     "metadata": {},
     "output_type": "execute_result"
    }
   ],
   "source": [
    "m = Prophet()\n",
    "m.fit(df[:-500])"
   ]
  },
  {
   "cell_type": "code",
   "execution_count": 7,
   "metadata": {},
   "outputs": [],
   "source": [
    "# df"
   ]
  },
  {
   "cell_type": "code",
   "execution_count": 8,
   "metadata": {},
   "outputs": [
    {
     "data": {
      "text/html": [
       "<div>\n",
       "<style scoped>\n",
       "    .dataframe tbody tr th:only-of-type {\n",
       "        vertical-align: middle;\n",
       "    }\n",
       "\n",
       "    .dataframe tbody tr th {\n",
       "        vertical-align: top;\n",
       "    }\n",
       "\n",
       "    .dataframe thead th {\n",
       "        text-align: right;\n",
       "    }\n",
       "</style>\n",
       "<table border=\"1\" class=\"dataframe\">\n",
       "  <thead>\n",
       "    <tr style=\"text-align: right;\">\n",
       "      <th></th>\n",
       "      <th>ds</th>\n",
       "    </tr>\n",
       "  </thead>\n",
       "  <tbody>\n",
       "    <tr>\n",
       "      <th>9153</th>\n",
       "      <td>2020-01-23</td>\n",
       "    </tr>\n",
       "    <tr>\n",
       "      <th>9154</th>\n",
       "      <td>2020-01-24</td>\n",
       "    </tr>\n",
       "    <tr>\n",
       "      <th>9155</th>\n",
       "      <td>2020-01-25</td>\n",
       "    </tr>\n",
       "    <tr>\n",
       "      <th>9156</th>\n",
       "      <td>2020-01-26</td>\n",
       "    </tr>\n",
       "    <tr>\n",
       "      <th>9157</th>\n",
       "      <td>2020-01-27</td>\n",
       "    </tr>\n",
       "  </tbody>\n",
       "</table>\n",
       "</div>"
      ],
      "text/plain": [
       "             ds\n",
       "9153 2020-01-23\n",
       "9154 2020-01-24\n",
       "9155 2020-01-25\n",
       "9156 2020-01-26\n",
       "9157 2020-01-27"
      ]
     },
     "execution_count": 8,
     "metadata": {},
     "output_type": "execute_result"
    }
   ],
   "source": [
    "# Python\n",
    "future = m.make_future_dataframe(periods=500)\n",
    "future.tail()"
   ]
  },
  {
   "cell_type": "code",
   "execution_count": 9,
   "metadata": {},
   "outputs": [
    {
     "data": {
      "text/html": [
       "<div>\n",
       "<style scoped>\n",
       "    .dataframe tbody tr th:only-of-type {\n",
       "        vertical-align: middle;\n",
       "    }\n",
       "\n",
       "    .dataframe tbody tr th {\n",
       "        vertical-align: top;\n",
       "    }\n",
       "\n",
       "    .dataframe thead th {\n",
       "        text-align: right;\n",
       "    }\n",
       "</style>\n",
       "<table border=\"1\" class=\"dataframe\">\n",
       "  <thead>\n",
       "    <tr style=\"text-align: right;\">\n",
       "      <th></th>\n",
       "      <th>ds</th>\n",
       "      <th>yhat</th>\n",
       "      <th>yhat_lower</th>\n",
       "      <th>yhat_upper</th>\n",
       "    </tr>\n",
       "  </thead>\n",
       "  <tbody>\n",
       "    <tr>\n",
       "      <th>9153</th>\n",
       "      <td>2020-01-23</td>\n",
       "      <td>79.824016</td>\n",
       "      <td>77.023518</td>\n",
       "      <td>82.676286</td>\n",
       "    </tr>\n",
       "    <tr>\n",
       "      <th>9154</th>\n",
       "      <td>2020-01-24</td>\n",
       "      <td>79.901319</td>\n",
       "      <td>76.969832</td>\n",
       "      <td>82.873604</td>\n",
       "    </tr>\n",
       "    <tr>\n",
       "      <th>9155</th>\n",
       "      <td>2020-01-25</td>\n",
       "      <td>80.029990</td>\n",
       "      <td>77.000429</td>\n",
       "      <td>82.905089</td>\n",
       "    </tr>\n",
       "    <tr>\n",
       "      <th>9156</th>\n",
       "      <td>2020-01-26</td>\n",
       "      <td>80.157477</td>\n",
       "      <td>77.251632</td>\n",
       "      <td>82.752472</td>\n",
       "    </tr>\n",
       "    <tr>\n",
       "      <th>9157</th>\n",
       "      <td>2020-01-27</td>\n",
       "      <td>80.172312</td>\n",
       "      <td>77.453534</td>\n",
       "      <td>82.870102</td>\n",
       "    </tr>\n",
       "  </tbody>\n",
       "</table>\n",
       "</div>"
      ],
      "text/plain": [
       "             ds       yhat  yhat_lower  yhat_upper\n",
       "9153 2020-01-23  79.824016   77.023518   82.676286\n",
       "9154 2020-01-24  79.901319   76.969832   82.873604\n",
       "9155 2020-01-25  80.029990   77.000429   82.905089\n",
       "9156 2020-01-26  80.157477   77.251632   82.752472\n",
       "9157 2020-01-27  80.172312   77.453534   82.870102"
      ]
     },
     "execution_count": 9,
     "metadata": {},
     "output_type": "execute_result"
    }
   ],
   "source": [
    "# Python\n",
    "forecast = m.predict(future)\n",
    "forecast[['ds', 'yhat', 'yhat_lower', 'yhat_upper']].tail()\n"
   ]
  },
  {
   "cell_type": "code",
   "execution_count": 10,
   "metadata": {},
   "outputs": [],
   "source": [
    "import matplotlib.pyplot as plt"
   ]
  },
  {
   "cell_type": "code",
   "execution_count": 11,
   "metadata": {},
   "outputs": [
    {
     "data": {
      "text/plain": [
       "<matplotlib.legend.Legend at 0x7f79e33b4c88>"
      ]
     },
     "execution_count": 11,
     "metadata": {},
     "output_type": "execute_result"
    },
    {
     "data": {
      "image/png": "[encoded data removed]",
      "text/plain": [
       "<Figure size 432x288 with 1 Axes>"
      ]
     },
     "metadata": {
      "needs_background": "light"
     },
     "output_type": "display_data"
    }
   ],
   "source": [
    "plt.plot(df[-500:].y.values, label = 'Actual')\n",
    "plt.plot(forecast['yhat'][-500:].values, label = 'Predicted')\n",
    "plt.legend()"
   ]
  },
  {
   "cell_type": "code",
   "execution_count": 85,
   "metadata": {},
   "outputs": [],
   "source": [
    "# df[-50:].y.values"
   ]
  },
  {
   "cell_type": "code",
   "execution_count": 84,
   "metadata": {},
   "outputs": [],
   "source": [
    "# forecast['yhat'][-50:].values"
   ]
  },
  {
   "cell_type": "code",
   "execution_count": 12,
   "metadata": {},
   "outputs": [
    {
     "data": {
      "text/html": [
       "<div>\n",
       "<style scoped>\n",
       "    .dataframe tbody tr th:only-of-type {\n",
       "        vertical-align: middle;\n",
       "    }\n",
       "\n",
       "    .dataframe tbody tr th {\n",
       "        vertical-align: top;\n",
       "    }\n",
       "\n",
       "    .dataframe thead th {\n",
       "        text-align: right;\n",
       "    }\n",
       "</style>\n",
       "<table border=\"1\" class=\"dataframe\">\n",
       "  <thead>\n",
       "    <tr style=\"text-align: right;\">\n",
       "      <th></th>\n",
       "      <th>ds</th>\n",
       "      <th>trend</th>\n",
       "      <th>yhat_lower</th>\n",
       "      <th>yhat_upper</th>\n",
       "      <th>trend_lower</th>\n",
       "      <th>trend_upper</th>\n",
       "      <th>additive_terms</th>\n",
       "      <th>additive_terms_lower</th>\n",
       "      <th>additive_terms_upper</th>\n",
       "      <th>weekly</th>\n",
       "      <th>weekly_lower</th>\n",
       "      <th>weekly_upper</th>\n",
       "      <th>yearly</th>\n",
       "      <th>yearly_lower</th>\n",
       "      <th>yearly_upper</th>\n",
       "      <th>multiplicative_terms</th>\n",
       "      <th>multiplicative_terms_lower</th>\n",
       "      <th>multiplicative_terms_upper</th>\n",
       "      <th>yhat</th>\n",
       "    </tr>\n",
       "  </thead>\n",
       "  <tbody>\n",
       "    <tr>\n",
       "      <th>0</th>\n",
       "      <td>1995-01-01</td>\n",
       "      <td>82.457692</td>\n",
       "      <td>73.587081</td>\n",
       "      <td>79.003333</td>\n",
       "      <td>82.457692</td>\n",
       "      <td>82.457692</td>\n",
       "      <td>-6.200941</td>\n",
       "      <td>-6.200941</td>\n",
       "      <td>-6.200941</td>\n",
       "      <td>0.074239</td>\n",
       "      <td>0.074239</td>\n",
       "      <td>0.074239</td>\n",
       "      <td>-6.275180</td>\n",
       "      <td>-6.275180</td>\n",
       "      <td>-6.275180</td>\n",
       "      <td>0.0</td>\n",
       "      <td>0.0</td>\n",
       "      <td>0.0</td>\n",
       "      <td>76.256751</td>\n",
       "    </tr>\n",
       "    <tr>\n",
       "      <th>1</th>\n",
       "      <td>1995-01-02</td>\n",
       "      <td>82.458042</td>\n",
       "      <td>73.239445</td>\n",
       "      <td>78.811473</td>\n",
       "      <td>82.458042</td>\n",
       "      <td>82.458042</td>\n",
       "      <td>-6.287855</td>\n",
       "      <td>-6.287855</td>\n",
       "      <td>-6.287855</td>\n",
       "      <td>0.004095</td>\n",
       "      <td>0.004095</td>\n",
       "      <td>0.004095</td>\n",
       "      <td>-6.291950</td>\n",
       "      <td>-6.291950</td>\n",
       "      <td>-6.291950</td>\n",
       "      <td>0.0</td>\n",
       "      <td>0.0</td>\n",
       "      <td>0.0</td>\n",
       "      <td>76.170187</td>\n",
       "    </tr>\n",
       "    <tr>\n",
       "      <th>2</th>\n",
       "      <td>1995-01-03</td>\n",
       "      <td>82.458391</td>\n",
       "      <td>73.314060</td>\n",
       "      <td>78.843512</td>\n",
       "      <td>82.458391</td>\n",
       "      <td>82.458391</td>\n",
       "      <td>-6.326991</td>\n",
       "      <td>-6.326991</td>\n",
       "      <td>-6.326991</td>\n",
       "      <td>-0.017464</td>\n",
       "      <td>-0.017464</td>\n",
       "      <td>-0.017464</td>\n",
       "      <td>-6.309527</td>\n",
       "      <td>-6.309527</td>\n",
       "      <td>-6.309527</td>\n",
       "      <td>0.0</td>\n",
       "      <td>0.0</td>\n",
       "      <td>0.0</td>\n",
       "      <td>76.131401</td>\n",
       "    </tr>\n",
       "    <tr>\n",
       "      <th>3</th>\n",
       "      <td>1995-01-04</td>\n",
       "      <td>82.458741</td>\n",
       "      <td>73.210876</td>\n",
       "      <td>78.776306</td>\n",
       "      <td>82.458741</td>\n",
       "      <td>82.458741</td>\n",
       "      <td>-6.369375</td>\n",
       "      <td>-6.369375</td>\n",
       "      <td>-6.369375</td>\n",
       "      <td>-0.041889</td>\n",
       "      <td>-0.041889</td>\n",
       "      <td>-0.041889</td>\n",
       "      <td>-6.327486</td>\n",
       "      <td>-6.327486</td>\n",
       "      <td>-6.327486</td>\n",
       "      <td>0.0</td>\n",
       "      <td>0.0</td>\n",
       "      <td>0.0</td>\n",
       "      <td>76.089366</td>\n",
       "    </tr>\n",
       "    <tr>\n",
       "      <th>4</th>\n",
       "      <td>1995-01-05</td>\n",
       "      <td>82.459091</td>\n",
       "      <td>73.496702</td>\n",
       "      <td>78.887477</td>\n",
       "      <td>82.459091</td>\n",
       "      <td>82.459091</td>\n",
       "      <td>-6.370924</td>\n",
       "      <td>-6.370924</td>\n",
       "      <td>-6.370924</td>\n",
       "      <td>-0.025611</td>\n",
       "      <td>-0.025611</td>\n",
       "      <td>-0.025611</td>\n",
       "      <td>-6.345313</td>\n",
       "      <td>-6.345313</td>\n",
       "      <td>-6.345313</td>\n",
       "      <td>0.0</td>\n",
       "      <td>0.0</td>\n",
       "      <td>0.0</td>\n",
       "      <td>76.088167</td>\n",
       "    </tr>\n",
       "    <tr>\n",
       "      <th>...</th>\n",
       "      <td>...</td>\n",
       "      <td>...</td>\n",
       "      <td>...</td>\n",
       "      <td>...</td>\n",
       "      <td>...</td>\n",
       "      <td>...</td>\n",
       "      <td>...</td>\n",
       "      <td>...</td>\n",
       "      <td>...</td>\n",
       "      <td>...</td>\n",
       "      <td>...</td>\n",
       "      <td>...</td>\n",
       "      <td>...</td>\n",
       "      <td>...</td>\n",
       "      <td>...</td>\n",
       "      <td>...</td>\n",
       "      <td>...</td>\n",
       "      <td>...</td>\n",
       "      <td>...</td>\n",
       "    </tr>\n",
       "    <tr>\n",
       "      <th>9153</th>\n",
       "      <td>2020-01-23</td>\n",
       "      <td>85.861878</td>\n",
       "      <td>77.023518</td>\n",
       "      <td>82.676286</td>\n",
       "      <td>85.184339</td>\n",
       "      <td>86.491423</td>\n",
       "      <td>-6.037861</td>\n",
       "      <td>-6.037861</td>\n",
       "      <td>-6.037861</td>\n",
       "      <td>-0.025611</td>\n",
       "      <td>-0.025611</td>\n",
       "      <td>-0.025611</td>\n",
       "      <td>-6.012250</td>\n",
       "      <td>-6.012250</td>\n",
       "      <td>-6.012250</td>\n",
       "      <td>0.0</td>\n",
       "      <td>0.0</td>\n",
       "      <td>0.0</td>\n",
       "      <td>79.824016</td>\n",
       "    </tr>\n",
       "    <tr>\n",
       "      <th>9154</th>\n",
       "      <td>2020-01-24</td>\n",
       "      <td>85.863071</td>\n",
       "      <td>76.969832</td>\n",
       "      <td>82.873604</td>\n",
       "      <td>85.180796</td>\n",
       "      <td>86.494428</td>\n",
       "      <td>-5.961752</td>\n",
       "      <td>-5.961752</td>\n",
       "      <td>-5.961752</td>\n",
       "      <td>-0.021980</td>\n",
       "      <td>-0.021980</td>\n",
       "      <td>-0.021980</td>\n",
       "      <td>-5.939772</td>\n",
       "      <td>-5.939772</td>\n",
       "      <td>-5.939772</td>\n",
       "      <td>0.0</td>\n",
       "      <td>0.0</td>\n",
       "      <td>0.0</td>\n",
       "      <td>79.901319</td>\n",
       "    </tr>\n",
       "    <tr>\n",
       "      <th>9155</th>\n",
       "      <td>2020-01-25</td>\n",
       "      <td>85.864264</td>\n",
       "      <td>77.000429</td>\n",
       "      <td>82.905089</td>\n",
       "      <td>85.179299</td>\n",
       "      <td>86.497655</td>\n",
       "      <td>-5.834275</td>\n",
       "      <td>-5.834275</td>\n",
       "      <td>-5.834275</td>\n",
       "      <td>0.028611</td>\n",
       "      <td>0.028611</td>\n",
       "      <td>0.028611</td>\n",
       "      <td>-5.862886</td>\n",
       "      <td>-5.862886</td>\n",
       "      <td>-5.862886</td>\n",
       "      <td>0.0</td>\n",
       "      <td>0.0</td>\n",
       "      <td>0.0</td>\n",
       "      <td>80.029990</td>\n",
       "    </tr>\n",
       "    <tr>\n",
       "      <th>9156</th>\n",
       "      <td>2020-01-26</td>\n",
       "      <td>85.865458</td>\n",
       "      <td>77.251632</td>\n",
       "      <td>82.752472</td>\n",
       "      <td>85.178399</td>\n",
       "      <td>86.500882</td>\n",
       "      <td>-5.707981</td>\n",
       "      <td>-5.707981</td>\n",
       "      <td>-5.707981</td>\n",
       "      <td>0.074239</td>\n",
       "      <td>0.074239</td>\n",
       "      <td>0.074239</td>\n",
       "      <td>-5.782221</td>\n",
       "      <td>-5.782221</td>\n",
       "      <td>-5.782221</td>\n",
       "      <td>0.0</td>\n",
       "      <td>0.0</td>\n",
       "      <td>0.0</td>\n",
       "      <td>80.157477</td>\n",
       "    </tr>\n",
       "    <tr>\n",
       "      <th>9157</th>\n",
       "      <td>2020-01-27</td>\n",
       "      <td>85.866651</td>\n",
       "      <td>77.453534</td>\n",
       "      <td>82.870102</td>\n",
       "      <td>85.177498</td>\n",
       "      <td>86.504099</td>\n",
       "      <td>-5.694339</td>\n",
       "      <td>-5.694339</td>\n",
       "      <td>-5.694339</td>\n",
       "      <td>0.004095</td>\n",
       "      <td>0.004095</td>\n",
       "      <td>0.004095</td>\n",
       "      <td>-5.698434</td>\n",
       "      <td>-5.698434</td>\n",
       "      <td>-5.698434</td>\n",
       "      <td>0.0</td>\n",
       "      <td>0.0</td>\n",
       "      <td>0.0</td>\n",
       "      <td>80.172312</td>\n",
       "    </tr>\n",
       "  </tbody>\n",
       "</table>\n",
       "<p>9158 rows × 19 columns</p>\n",
       "</div>"
      ],
      "text/plain": [
       "             ds      trend  yhat_lower  yhat_upper  trend_lower  trend_upper  \\\n",
       "0    1995-01-01  82.457692   73.587081   79.003333    82.457692    82.457692   \n",
       "1    1995-01-02  82.458042   73.239445   78.811473    82.458042    82.458042   \n",
       "2    1995-01-03  82.458391   73.314060   78.843512    82.458391    82.458391   \n",
       "3    1995-01-04  82.458741   73.210876   78.776306    82.458741    82.458741   \n",
       "4    1995-01-05  82.459091   73.496702   78.887477    82.459091    82.459091   \n",
       "...         ...        ...         ...         ...          ...          ...   \n",
       "9153 2020-01-23  85.861878   77.023518   82.676286    85.184339    86.491423   \n",
       "9154 2020-01-24  85.863071   76.969832   82.873604    85.180796    86.494428   \n",
       "9155 2020-01-25  85.864264   77.000429   82.905089    85.179299    86.497655   \n",
       "9156 2020-01-26  85.865458   77.251632   82.752472    85.178399    86.500882   \n",
       "9157 2020-01-27  85.866651   77.453534   82.870102    85.177498    86.504099   \n",
       "\n",
       "      additive_terms  additive_terms_lower  additive_terms_upper    weekly  \\\n",
       "0          -6.200941             -6.200941             -6.200941  0.074239   \n",
       "1          -6.287855             -6.287855             -6.287855  0.004095   \n",
       "2          -6.326991             -6.326991             -6.326991 -0.017464   \n",
       "3          -6.369375             -6.369375             -6.369375 -0.041889   \n",
       "4          -6.370924             -6.370924             -6.370924 -0.025611   \n",
       "...              ...                   ...                   ...       ...   \n",
       "9153       -6.037861             -6.037861             -6.037861 -0.025611   \n",
       "9154       -5.961752             -5.961752             -5.961752 -0.021980   \n",
       "9155       -5.834275             -5.834275             -5.834275  0.028611   \n",
       "9156       -5.707981             -5.707981             -5.707981  0.074239   \n",
       "9157       -5.694339             -5.694339             -5.694339  0.004095   \n",
       "\n",
       "      weekly_lower  weekly_upper    yearly  yearly_lower  yearly_upper  \\\n",
       "0         0.074239      0.074239 -6.275180     -6.275180     -6.275180   \n",
       "1         0.004095      0.004095 -6.291950     -6.291950     -6.291950   \n",
       "2        -0.017464     -0.017464 -6.309527     -6.309527     -6.309527   \n",
       "3        -0.041889     -0.041889 -6.327486     -6.327486     -6.327486   \n",
       "4        -0.025611     -0.025611 -6.345313     -6.345313     -6.345313   \n",
       "...            ...           ...       ...           ...           ...   \n",
       "9153     -0.025611     -0.025611 -6.012250     -6.012250     -6.012250   \n",
       "9154     -0.021980     -0.021980 -5.939772     -5.939772     -5.939772   \n",
       "9155      0.028611      0.028611 -5.862886     -5.862886     -5.862886   \n",
       "9156      0.074239      0.074239 -5.782221     -5.782221     -5.782221   \n",
       "9157      0.004095      0.004095 -5.698434     -5.698434     -5.698434   \n",
       "\n",
       "      multiplicative_terms  multiplicative_terms_lower  \\\n",
       "0                      0.0                         0.0   \n",
       "1                      0.0                         0.0   \n",
       "2                      0.0                         0.0   \n",
       "3                      0.0                         0.0   \n",
       "4                      0.0                         0.0   \n",
       "...                    ...                         ...   \n",
       "9153                   0.0                         0.0   \n",
       "9154                   0.0                         0.0   \n",
       "9155                   0.0                         0.0   \n",
       "9156                   0.0                         0.0   \n",
       "9157                   0.0                         0.0   \n",
       "\n",
       "      multiplicative_terms_upper       yhat  \n",
       "0                            0.0  76.256751  \n",
       "1                            0.0  76.170187  \n",
       "2                            0.0  76.131401  \n",
       "3                            0.0  76.089366  \n",
       "4                            0.0  76.088167  \n",
       "...                          ...        ...  \n",
       "9153                         0.0  79.824016  \n",
       "9154                         0.0  79.901319  \n",
       "9155                         0.0  80.029990  \n",
       "9156                         0.0  80.157477  \n",
       "9157                         0.0  80.172312  \n",
       "\n",
       "[9158 rows x 19 columns]"
      ]
     },
     "execution_count": 12,
     "metadata": {},
     "output_type": "execute_result"
    }
   ],
   "source": [
    "forecast"
   ]
  },
  {
   "cell_type": "code",
   "execution_count": 89,
   "metadata": {},
   "outputs": [
    {
     "name": "stdout",
     "output_type": "stream",
     "text": [
      "chennai_reservoir_levels.csv    fcprophet.ipynb            temp.ipynb\r\n",
      "chennai_reservoir_rainfall.csv  model.h5                   temp.pdf\r\n",
      "EDA.ipynb                       processed-temperature.csv\r\n",
      "EDA.pdf                         README.md\r\n"
     ]
    }
   ],
   "source": [
    "ls"
   ]
  },
  {
   "cell_type": "code",
   "execution_count": 132,
   "metadata": {},
   "outputs": [],
   "source": [
    "rain = pd.read_csv('chennai_reservoir_levels.csv', usecols = ['Date', 'REDHILLS'])"
   ]
  },
  {
   "cell_type": "code",
   "execution_count": 25,
   "metadata": {},
   "outputs": [
    {
     "data": {
      "text/html": [
       "<div>\n",
       "<style scoped>\n",
       "    .dataframe tbody tr th:only-of-type {\n",
       "        vertical-align: middle;\n",
       "    }\n",
       "\n",
       "    .dataframe tbody tr th {\n",
       "        vertical-align: top;\n",
       "    }\n",
       "\n",
       "    .dataframe thead th {\n",
       "        text-align: right;\n",
       "    }\n",
       "</style>\n",
       "<table border=\"1\" class=\"dataframe\">\n",
       "  <thead>\n",
       "    <tr style=\"text-align: right;\">\n",
       "      <th></th>\n",
       "      <th>Date</th>\n",
       "      <th>REDHILLS</th>\n",
       "    </tr>\n",
       "  </thead>\n",
       "  <tbody>\n",
       "    <tr>\n",
       "      <th>0</th>\n",
       "      <td>01-01-2004</td>\n",
       "      <td>268.0</td>\n",
       "    </tr>\n",
       "    <tr>\n",
       "      <th>1</th>\n",
       "      <td>02-01-2004</td>\n",
       "      <td>268.0</td>\n",
       "    </tr>\n",
       "    <tr>\n",
       "      <th>2</th>\n",
       "      <td>03-01-2004</td>\n",
       "      <td>267.0</td>\n",
       "    </tr>\n",
       "    <tr>\n",
       "      <th>3</th>\n",
       "      <td>04-01-2004</td>\n",
       "      <td>267.0</td>\n",
       "    </tr>\n",
       "    <tr>\n",
       "      <th>4</th>\n",
       "      <td>05-01-2004</td>\n",
       "      <td>267.0</td>\n",
       "    </tr>\n",
       "  </tbody>\n",
       "</table>\n",
       "</div>"
      ],
      "text/plain": [
       "         Date  REDHILLS\n",
       "0  01-01-2004     268.0\n",
       "1  02-01-2004     268.0\n",
       "2  03-01-2004     267.0\n",
       "3  04-01-2004     267.0\n",
       "4  05-01-2004     267.0"
      ]
     },
     "execution_count": 25,
     "metadata": {},
     "output_type": "execute_result"
    }
   ],
   "source": [
    "rain.head()"
   ]
  },
  {
   "cell_type": "code",
   "execution_count": 133,
   "metadata": {},
   "outputs": [],
   "source": [
    "rain.columns = ['ds', 'y']"
   ]
  },
  {
   "cell_type": "code",
   "execution_count": 134,
   "metadata": {},
   "outputs": [],
   "source": [
    "r = Prophet()"
   ]
  },
  {
   "cell_type": "code",
   "execution_count": 135,
   "metadata": {},
   "outputs": [
    {
     "name": "stderr",
     "output_type": "stream",
     "text": [
      "INFO:fbprophet:Disabling daily seasonality. Run prophet with daily_seasonality=True to override this.\n"
     ]
    },
    {
     "data": {
      "text/plain": [
       "<fbprophet.forecaster.Prophet at 0x7f79cea84198>"
      ]
     },
     "execution_count": 135,
     "metadata": {},
     "output_type": "execute_result"
    }
   ],
   "source": [
    "r.fit(rain)"
   ]
  },
  {
   "cell_type": "code",
   "execution_count": 137,
   "metadata": {},
   "outputs": [],
   "source": [
    "r_future = r.make_future_dataframe(30)"
   ]
  },
  {
   "cell_type": "code",
   "execution_count": 138,
   "metadata": {},
   "outputs": [],
   "source": [
    "rain_fc = r.predict(r_future)"
   ]
  },
  {
   "cell_type": "code",
   "execution_count": 54,
   "metadata": {},
   "outputs": [
    {
     "data": {
      "text/plain": [
       "(6136, 19)"
      ]
     },
     "execution_count": 54,
     "metadata": {},
     "output_type": "execute_result"
    }
   ],
   "source": [
    "rain_fc.shape"
   ]
  },
  {
   "cell_type": "code",
   "execution_count": 55,
   "metadata": {},
   "outputs": [
    {
     "data": {
      "text/html": [
       "<div>\n",
       "<style scoped>\n",
       "    .dataframe tbody tr th:only-of-type {\n",
       "        vertical-align: middle;\n",
       "    }\n",
       "\n",
       "    .dataframe tbody tr th {\n",
       "        vertical-align: top;\n",
       "    }\n",
       "\n",
       "    .dataframe thead th {\n",
       "        text-align: right;\n",
       "    }\n",
       "</style>\n",
       "<table border=\"1\" class=\"dataframe\">\n",
       "  <thead>\n",
       "    <tr style=\"text-align: right;\">\n",
       "      <th></th>\n",
       "      <th>ds</th>\n",
       "    </tr>\n",
       "  </thead>\n",
       "  <tbody>\n",
       "    <tr>\n",
       "      <th>0</th>\n",
       "      <td>2004-01-01</td>\n",
       "    </tr>\n",
       "    <tr>\n",
       "      <th>1</th>\n",
       "      <td>2004-01-02</td>\n",
       "    </tr>\n",
       "    <tr>\n",
       "      <th>2</th>\n",
       "      <td>2004-01-03</td>\n",
       "    </tr>\n",
       "    <tr>\n",
       "      <th>3</th>\n",
       "      <td>2004-01-04</td>\n",
       "    </tr>\n",
       "    <tr>\n",
       "      <th>4</th>\n",
       "      <td>2004-01-05</td>\n",
       "    </tr>\n",
       "    <tr>\n",
       "      <th>...</th>\n",
       "      <td>...</td>\n",
       "    </tr>\n",
       "    <tr>\n",
       "      <th>6131</th>\n",
       "      <td>2020-10-14</td>\n",
       "    </tr>\n",
       "    <tr>\n",
       "      <th>6132</th>\n",
       "      <td>2020-10-15</td>\n",
       "    </tr>\n",
       "    <tr>\n",
       "      <th>6133</th>\n",
       "      <td>2020-10-16</td>\n",
       "    </tr>\n",
       "    <tr>\n",
       "      <th>6134</th>\n",
       "      <td>2020-10-17</td>\n",
       "    </tr>\n",
       "    <tr>\n",
       "      <th>6135</th>\n",
       "      <td>2020-10-18</td>\n",
       "    </tr>\n",
       "  </tbody>\n",
       "</table>\n",
       "<p>6136 rows × 1 columns</p>\n",
       "</div>"
      ],
      "text/plain": [
       "             ds\n",
       "0    2004-01-01\n",
       "1    2004-01-02\n",
       "2    2004-01-03\n",
       "3    2004-01-04\n",
       "4    2004-01-05\n",
       "...         ...\n",
       "6131 2020-10-14\n",
       "6132 2020-10-15\n",
       "6133 2020-10-16\n",
       "6134 2020-10-17\n",
       "6135 2020-10-18\n",
       "\n",
       "[6136 rows x 1 columns]"
      ]
     },
     "execution_count": 55,
     "metadata": {},
     "output_type": "execute_result"
    }
   ],
   "source": [
    "r_future"
   ]
  },
  {
   "cell_type": "code",
   "execution_count": 58,
   "metadata": {
    "scrolled": false
   },
   "outputs": [
    {
     "data": {
      "text/plain": [
       "<matplotlib.legend.Legend at 0x7f79d0513f28>"
      ]
     },
     "execution_count": 58,
     "metadata": {},
     "output_type": "execute_result"
    },
    {
     "data": {
      "image/png": "[encoded data removed]",
      "text/plain": [
       "<Figure size 432x288 with 1 Axes>"
      ]
     },
     "metadata": {
      "needs_background": "light"
     },
     "output_type": "display_data"
    }
   ],
   "source": [
    "plt.plot(rain_fc['yhat'].values[-300:], label = \"Predicted\")\n",
    "plt.plot(rain.y.values[:500], label = \"Actual\")\n",
    "plt.legend()"
   ]
  },
  {
   "cell_type": "code",
   "execution_count": 70,
   "metadata": {},
   "outputs": [
    {
     "data": {
      "text/plain": [
       "Index(['ds', 'trend', 'yhat_lower', 'yhat_upper', 'trend_lower', 'trend_upper',\n",
       "       'additive_terms', 'additive_terms_lower', 'additive_terms_upper',\n",
       "       'weekly', 'weekly_lower', 'weekly_upper', 'yearly', 'yearly_lower',\n",
       "       'yearly_upper', 'multiplicative_terms', 'multiplicative_terms_lower',\n",
       "       'multiplicative_terms_upper', 'yhat'],\n",
       "      dtype='object')"
      ]
     },
     "execution_count": 70,
     "metadata": {},
     "output_type": "execute_result"
    }
   ],
   "source": [
    "rain_fc.columns"
   ]
  },
  {
   "cell_type": "code",
   "execution_count": 139,
   "metadata": {
    "scrolled": true
   },
   "outputs": [],
   "source": [
    "rf = rain_fc[['ds', 'yhat']][-60:]"
   ]
  },
  {
   "cell_type": "code",
   "execution_count": 140,
   "metadata": {},
   "outputs": [],
   "source": [
    "rf.columns = ['Date', 'REDHILLS']"
   ]
  },
  {
   "cell_type": "code",
   "execution_count": 141,
   "metadata": {
    "scrolled": false
   },
   "outputs": [
    {
     "data": {
      "text/plain": [
       "<matplotlib.axes._subplots.AxesSubplot at 0x7f79ce6dc438>"
      ]
     },
     "execution_count": 141,
     "metadata": {},
     "output_type": "execute_result"
    },
    {
     "data": {
      "image/png": "[encoded data removed]",
      "text/plain": [
       "<Figure size 432x288 with 1 Axes>"
      ]
     },
     "metadata": {
      "needs_background": "light"
     },
     "output_type": "display_data"
    }
   ],
   "source": [
    "rf.plot(x='Date', y='REDHILLS')"
   ]
  },
  {
   "cell_type": "code",
   "execution_count": 123,
   "metadata": {},
   "outputs": [],
   "source": [
    "rain = pd.read_csv('chennai_reservoir_levels.csv', usecols = ['Date', 'CHOLAVARAM'])"
   ]
  },
  {
   "cell_type": "code",
   "execution_count": 124,
   "metadata": {},
   "outputs": [],
   "source": [
    "rain.columns = ['ds', 'y']"
   ]
  },
  {
   "cell_type": "code",
   "execution_count": 125,
   "metadata": {},
   "outputs": [],
   "source": [
    "r = Prophet()"
   ]
  },
  {
   "cell_type": "code",
   "execution_count": 126,
   "metadata": {},
   "outputs": [
    {
     "name": "stderr",
     "output_type": "stream",
     "text": [
      "INFO:fbprophet:Disabling daily seasonality. Run prophet with daily_seasonality=True to override this.\n"
     ]
    },
    {
     "data": {
      "text/plain": [
       "<fbprophet.forecaster.Prophet at 0x7f79ce777160>"
      ]
     },
     "execution_count": 126,
     "metadata": {},
     "output_type": "execute_result"
    }
   ],
   "source": [
    "r.fit(rain)"
   ]
  },
  {
   "cell_type": "code",
   "execution_count": 127,
   "metadata": {},
   "outputs": [],
   "source": [
    "r_future = r.make_future_dataframe(30)"
   ]
  },
  {
   "cell_type": "code",
   "execution_count": 128,
   "metadata": {},
   "outputs": [],
   "source": [
    "rain_fc = r.predict(r_future)"
   ]
  },
  {
   "cell_type": "code",
   "execution_count": 129,
   "metadata": {
    "scrolled": true
   },
   "outputs": [],
   "source": [
    "rf = rain_fc[['ds', 'yhat']][-30:]"
   ]
  },
  {
   "cell_type": "code",
   "execution_count": 130,
   "metadata": {},
   "outputs": [],
   "source": [
    "rf.columns = ['Date', 'CHOLAVARAM']"
   ]
  },
  {
   "cell_type": "code",
   "execution_count": 131,
   "metadata": {
    "scrolled": false
   },
   "outputs": [
    {
     "data": {
      "text/plain": [
       "<matplotlib.axes._subplots.AxesSubplot at 0x7f79ce81a860>"
      ]
     },
     "execution_count": 131,
     "metadata": {},
     "output_type": "execute_result"
    },
    {
     "data": {
      "image/png": "[encoded data removed]",
      "text/plain": [
       "<Figure size 432x288 with 1 Axes>"
      ]
     },
     "metadata": {
      "needs_background": "light"
     },
     "output_type": "display_data"
    }
   ],
   "source": [
    "rf.plot(x='Date', y='CHOLAVARAM')"
   ]
  },
  {
   "cell_type": "code",
   "execution_count": 160,
   "metadata": {},
   "outputs": [],
   "source": [
    "rain = pd.read_csv('chennai_reservoir_levels.csv', usecols = ['Date', 'POONDI'])"
   ]
  },
  {
   "cell_type": "code",
   "execution_count": 161,
   "metadata": {},
   "outputs": [],
   "source": [
    "rain.columns = ['ds', 'y']"
   ]
  },
  {
   "cell_type": "code",
   "execution_count": 162,
   "metadata": {},
   "outputs": [],
   "source": [
    "r = Prophet()"
   ]
  },
  {
   "cell_type": "code",
   "execution_count": 163,
   "metadata": {},
   "outputs": [
    {
     "name": "stderr",
     "output_type": "stream",
     "text": [
      "INFO:fbprophet:Disabling daily seasonality. Run prophet with daily_seasonality=True to override this.\n"
     ]
    },
    {
     "data": {
      "text/plain": [
       "<fbprophet.forecaster.Prophet at 0x7f79ce718f28>"
      ]
     },
     "execution_count": 163,
     "metadata": {},
     "output_type": "execute_result"
    }
   ],
   "source": [
    "r.fit(rain)"
   ]
  },
  {
   "cell_type": "code",
   "execution_count": 164,
   "metadata": {},
   "outputs": [],
   "source": [
    "r_future = r.make_future_dataframe(30)"
   ]
  },
  {
   "cell_type": "code",
   "execution_count": 165,
   "metadata": {},
   "outputs": [],
   "source": [
    "rain_fc = r.predict(r_future)"
   ]
  },
  {
   "cell_type": "code",
   "execution_count": 166,
   "metadata": {
    "scrolled": true
   },
   "outputs": [],
   "source": [
    "rf = rain_fc[['ds', 'yhat']][-30:]"
   ]
  },
  {
   "cell_type": "code",
   "execution_count": 167,
   "metadata": {},
   "outputs": [],
   "source": [
    "rf.columns = ['Date', 'POONDI']"
   ]
  },
  {
   "cell_type": "code",
   "execution_count": 168,
   "metadata": {
    "scrolled": false
   },
   "outputs": [
    {
     "data": {
      "text/plain": [
       "<matplotlib.axes._subplots.AxesSubplot at 0x7f79ce718748>"
      ]
     },
     "execution_count": 168,
     "metadata": {},
     "output_type": "execute_result"
    },
    {
     "data": {
      "image/png": "[encoded data removed]",
      "text/plain": [
       "<Figure size 432x288 with 1 Axes>"
      ]
     },
     "metadata": {
      "needs_background": "light"
     },
     "output_type": "display_data"
    }
   ],
   "source": [
    "rf.plot(x='Date', y='POONDI')"
   ]
  },
  {
   "cell_type": "code",
   "execution_count": 151,
   "metadata": {},
   "outputs": [],
   "source": [
    "rain = pd.read_csv('chennai_reservoir_levels.csv', usecols = ['Date', 'CHEMBARAMBAKKAM'])"
   ]
  },
  {
   "cell_type": "code",
   "execution_count": 152,
   "metadata": {},
   "outputs": [],
   "source": [
    "rain.columns = ['ds', 'y']"
   ]
  },
  {
   "cell_type": "code",
   "execution_count": 153,
   "metadata": {},
   "outputs": [],
   "source": [
    "r = Prophet()"
   ]
  },
  {
   "cell_type": "code",
   "execution_count": 154,
   "metadata": {},
   "outputs": [
    {
     "name": "stderr",
     "output_type": "stream",
     "text": [
      "INFO:fbprophet:Disabling daily seasonality. Run prophet with daily_seasonality=True to override this.\n"
     ]
    },
    {
     "data": {
      "text/plain": [
       "<fbprophet.forecaster.Prophet at 0x7f79cf4094e0>"
      ]
     },
     "execution_count": 154,
     "metadata": {},
     "output_type": "execute_result"
    }
   ],
   "source": [
    "r.fit(rain)"
   ]
  },
  {
   "cell_type": "code",
   "execution_count": 155,
   "metadata": {},
   "outputs": [],
   "source": [
    "r_future = r.make_future_dataframe(30)"
   ]
  },
  {
   "cell_type": "code",
   "execution_count": 156,
   "metadata": {},
   "outputs": [],
   "source": [
    "rain_fc = r.predict(r_future)"
   ]
  },
  {
   "cell_type": "code",
   "execution_count": 157,
   "metadata": {
    "scrolled": true
   },
   "outputs": [],
   "source": [
    "rf = rain_fc[['ds', 'yhat']][-30:]"
   ]
  },
  {
   "cell_type": "code",
   "execution_count": 158,
   "metadata": {},
   "outputs": [],
   "source": [
    "rf.columns = ['Date', 'CHEMBARAMBAKKAM']"
   ]
  },
  {
   "cell_type": "code",
   "execution_count": 159,
   "metadata": {
    "scrolled": false
   },
   "outputs": [
    {
     "data": {
      "text/plain": [
       "<matplotlib.axes._subplots.AxesSubplot at 0x7f79ce6eb160>"
      ]
     },
     "execution_count": 159,
     "metadata": {},
     "output_type": "execute_result"
    },
    {
     "data": {
      "image/png": "[encoded data removed]",
      "text/plain": [
       "<Figure size 432x288 with 1 Axes>"
      ]
     },
     "metadata": {
      "needs_background": "light"
     },
     "output_type": "display_data"
    }
   ],
   "source": [
    "rf.plot(x='Date', y='CHEMBARAMBAKKAM')"
   ]
  },
  {
   "cell_type": "code",
   "execution_count": null,
   "metadata": {},
   "outputs": [],
   "source": []
  }
 ],
 "metadata": {
  "kernelspec": {
   "display_name": "Python 3",
   "language": "python",
   "name": "python3"
  },
  "language_info": {
   "codemirror_mode": {
    "name": "ipython",
    "version": 3
   },
   "file_extension": ".py",
   "mimetype": "text/x-python",
   "name": "python",
   "nbconvert_exporter": "python",
   "pygments_lexer": "ipython3",
   "version": "3.6.7"
  }
 },
 "nbformat": 4,
 "nbformat_minor": 2
}
